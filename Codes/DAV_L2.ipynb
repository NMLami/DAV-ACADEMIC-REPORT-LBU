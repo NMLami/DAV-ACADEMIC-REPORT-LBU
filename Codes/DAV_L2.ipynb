{
  "nbformat": 4,
  "nbformat_minor": 0,
  "metadata": {
    "colab": {
      "provenance": []
    },
    "kernelspec": {
      "name": "python3",
      "display_name": "Python 3"
    },
    "language_info": {
      "name": "python"
    }
  },
  "cells": [
    {
      "cell_type": "markdown",
      "source": [
        "# **DAV LEVEL 2**"
      ],
      "metadata": {
        "id": "3H9i5HsuXB9v"
      }
    },
    {
      "cell_type": "code",
      "execution_count": null,
      "metadata": {
        "id": "cofcbHa2W7EC"
      },
      "outputs": [],
      "source": [
        "import pandas as pd\n",
        "import numpy as np\n",
        "import matplotlib.pyplot as plt\n",
        "import seaborn as sns"
      ]
    },
    {
      "cell_type": "code",
      "source": [
        "from google.colab import drive\n",
        "drive.mount('/content/drive')"
      ],
      "metadata": {
        "colab": {
          "base_uri": "https://localhost:8080/"
        },
        "id": "beuBjgGdXTCr",
        "outputId": "3f6fb274-d679-4aea-ab01-fb7bfd68c8cf"
      },
      "execution_count": null,
      "outputs": [
        {
          "output_type": "stream",
          "name": "stdout",
          "text": [
            "Mounted at /content/drive\n"
          ]
        }
      ]
    },
    {
      "cell_type": "code",
      "source": [
        "# load GHG Emission data\n",
        "ghgEmission = \"drive/My Drive/Study/DAV/co2_data.csv\"\n",
        "northHemIce = \"drive/My Drive/Study/DAV/north_hemisphere_ice.xlsx\"\n",
        "southHemIce = \"drive/My Drive/Study/DAV/south_hemishpere_ice.xlsx\"\n",
        "df_ghg = pd.read_csv(ghgEmission)\n",
        "df_northHemIce = pd.read_excel(northHemIce)\n",
        "df_southHemIce = pd.read_excel(southHemIce)\n",
        "# display(df_ghg)\n",
        "\n",
        "# Set max_rows and max_columns options\n",
        "pd.set_option('display.max_rows', None)\n",
        "pd.set_option('display.max_columns', None)"
      ],
      "metadata": {
        "id": "YL1IX7kAXZ4j"
      },
      "execution_count": null,
      "outputs": []
    },
    {
      "cell_type": "code",
      "source": [
        "# Select a range of years (1990 to 2021)\n",
        "start_year = 1990\n",
        "end_year = 2021\n",
        "selected_rows = df_ghg.loc[(df_ghg['year'] >= start_year) & (df_ghg['year'] <= end_year)]"
      ],
      "metadata": {
        "id": "l11IgIGwXywd"
      },
      "execution_count": null,
      "outputs": []
    },
    {
      "cell_type": "code",
      "source": [
        "#value to be removed as country\n",
        "values_to_remove = ['Africa (GCP)','Aland Islands','American Samoa','Asia (GCP)','Asia (excl. China and India)', 'Central America (GCP)','Europe (GCP)', 'European Union (27) (GCP)', 'Falkland Islands', 'Guernsey', 'Isle of Man', 'Jersey',\n",
        "'Middle East (GCP)', 'Netherlands Antilles', 'Non-OECD (GCP)', 'OECD (GCP)', 'Oceania (GCP)','Puerto Rico','Saint Martin (French part)', 'South America (GCP)','Svalbard and Jan Mayen','United States Virgin Islands','Western Sahara','World','Europe' 'Europe (excl. EU-27)',\n",
        " 'Europe (excl. EU-28)',\n",
        " 'European Union (27)',\n",
        " 'European Union (28)',\n",
        " 'North America',\n",
        " 'North America (GCP)',\n",
        " 'North America (excl. USA)',\n",
        " 'South America',\n",
        " 'Upper-middle-income countries',\n",
        " 'International transport',\n",
        " 'High-income countries',\n",
        " 'Asia',\n",
        " 'Low-income countries',\n",
        " 'Lower-middle-income countries',\n",
        " 'Africa',\n",
        " 'Europe',\n",
        " 'Europe (excl. EU-27)',]\n",
        "\n",
        "# Filter the DataFrame to remove rows that match the values in the array\n",
        "df_filteredCountry = selected_rows[~selected_rows['country'].isin(values_to_remove)]\n",
        "\n",
        "# Write the filtered DataFrame back to the CSV file\n",
        "# display(df_filteredCountry)\n",
        "# df_filteredCountry.to_csv('newData.csv', index=False)"
      ],
      "metadata": {
        "id": "xHu-L2OiX1wu"
      },
      "execution_count": null,
      "outputs": []
    },
    {
      "cell_type": "code",
      "source": [
        "# Define columns to keep\n",
        "columns_to_keep = ['country', 'year','population','cement_co2','cement_co2_per_capita','co2','co2_per_capita','coal_co2','coal_co2_per_capita','flaring_co2','flaring_co2_per_capita','gas_co2','gas_co2_per_capita','land_use_change_co2','land_use_change_co2_per_capita','methane','methane_per_capita','nitrous_oxide','nitrous_oxide_per_capita','oil_co2','oil_co2_per_capita','total_ghg']\n",
        "\n",
        "# Keep only specified columns in the DataFrame\n",
        "df_final = df_filteredCountry[columns_to_keep]\n",
        "\n",
        "# display(df_final)"
      ],
      "metadata": {
        "id": "ETsOPVMtX4vF"
      },
      "execution_count": null,
      "outputs": []
    },
    {
      "cell_type": "code",
      "source": [
        "missing_percentages = df_final.isnull().sum() / len(df_final) * 100\n",
        "display(missing_percentages)"
      ],
      "metadata": {
        "colab": {
          "base_uri": "https://localhost:8080/",
          "height": 416
        },
        "id": "GEp_XcpaX6cO",
        "outputId": "ce8c6f89-2d0c-4e1b-db72-f55c5d26470e"
      },
      "execution_count": null,
      "outputs": [
        {
          "output_type": "display_data",
          "data": {
            "text/plain": [
              "country                            0.000000\n",
              "year                               0.000000\n",
              "population                         0.269848\n",
              "cement_co2                         2.698480\n",
              "cement_co2_per_capita              2.968328\n",
              "co2                                0.255646\n",
              "co2_per_capita                     0.525494\n",
              "coal_co2                           0.298253\n",
              "coal_co2_per_capita                0.568101\n",
              "flaring_co2                        0.298253\n",
              "flaring_co2_per_capita             0.568101\n",
              "gas_co2                            0.298253\n",
              "gas_co2_per_capita                 0.568101\n",
              "land_use_change_co2                8.649340\n",
              "land_use_change_co2_per_capita     8.649340\n",
              "methane                           17.341287\n",
              "methane_per_capita                17.341287\n",
              "nitrous_oxide                     17.341287\n",
              "nitrous_oxide_per_capita          17.341287\n",
              "oil_co2                            0.298253\n",
              "oil_co2_per_capita                 0.568101\n",
              "total_ghg                         17.355489\n",
              "dtype: float64"
            ]
          },
          "metadata": {}
        }
      ]
    },
    {
      "cell_type": "code",
      "source": [
        "df_greeenHouseGas = df_final.copy()\n",
        "\n",
        "# #Total use of GHG in a year\n",
        "# df_greeenHouseGas['total_ghg'] = df_greeenHouseGas['co2'] + df_greeenHouseGas['methane'] + df_greeenHouseGas['nitrous_oxide']\n",
        "\n",
        "column_name = 'country'\n",
        "num_unique_country = df_greeenHouseGas[column_name].unique()\n",
        "num_unique_values_count = df_greeenHouseGas[column_name].nunique()\n",
        "\n",
        "unique_values_country_list = num_unique_country.tolist()\n",
        "\n",
        "# Print the result\n",
        "# print(f'The number of unique values in {column_name} is {num_unique_values_count}.')\n",
        "# display(unique_values_list)"
      ],
      "metadata": {
        "id": "PoQfcMmWX8uW"
      },
      "execution_count": null,
      "outputs": []
    },
    {
      "cell_type": "code",
      "source": [
        "#Mean according to country for imputation of data\n",
        "mean_accor_country = {}\n",
        "\n",
        "for country in unique_values_country_list:\n",
        "  countryName = country\n",
        "  selecte_country_rows = df_greeenHouseGas.loc[(df_greeenHouseGas['country'] == countryName)]\n",
        "  # display(selecte_country_rows)\n",
        "  mean_accor_year = {}\n",
        "  for column_name in selecte_country_rows.columns:\n",
        "    if selecte_country_rows[column_name].dtype != object:\n",
        "        mean = selecte_country_rows[column_name].mean()\n",
        "        mean_accor_year[column_name] = mean\n",
        "  \n",
        "  mean_accor_country[country] = mean_accor_year\n"
      ],
      "metadata": {
        "id": "vqEkGQbbYAUF"
      },
      "execution_count": null,
      "outputs": []
    },
    {
      "cell_type": "code",
      "source": [
        "display(mean_accor_country['Afghanistan'])"
      ],
      "metadata": {
        "colab": {
          "base_uri": "https://localhost:8080/",
          "height": 382
        },
        "id": "fJR4MCbMYCXO",
        "outputId": "5da6c710-45b0-47f8-e251-93801278b116"
      },
      "execution_count": null,
      "outputs": [
        {
          "output_type": "display_data",
          "data": {
            "text/plain": [
              "{'year': 2005.5,\n",
              " 'population': 24929732.28125,\n",
              " 'cement_co2': 0.032093750000000004,\n",
              " 'cement_co2_per_capita': 0.0015,\n",
              " 'co2': 5.0441875,\n",
              " 'co2_per_capita': 0.1759375,\n",
              " 'coal_co2': 1.45146875,\n",
              " 'coal_co2_per_capita': 0.04478125,\n",
              " 'flaring_co2': 0.0085,\n",
              " 'flaring_co2_per_capita': 0.0005,\n",
              " 'gas_co2': 0.30800000000000005,\n",
              " 'gas_co2_per_capita': 0.01471875,\n",
              " 'land_use_change_co2': 0.632125,\n",
              " 'land_use_change_co2_per_capita': 0.020968750000000005,\n",
              " 'methane': 11.642333333333335,\n",
              " 'methane_per_capita': 0.4971,\n",
              " 'nitrous_oxide': 3.8856666666666664,\n",
              " 'nitrous_oxide_per_capita': 0.1721,\n",
              " 'oil_co2': 3.2443125000000004,\n",
              " 'oil_co2_per_capita': 0.11434375000000001,\n",
              " 'total_ghg': 18.11466666666667}"
            ]
          },
          "metadata": {}
        }
      ]
    },
    {
      "cell_type": "code",
      "source": [
        "# Loop through the rows and columns and replace null values with country name\n",
        "for i, row in df_greeenHouseGas.iterrows():\n",
        "    country = row['country']  # Assume that the country name is in the 'Country' column\n",
        "    for column_name in df_greeenHouseGas.columns:\n",
        "        if pd.isnull(row[column_name]):\n",
        "            replacement_value = mean_accor_country[country][column_name];\n",
        "            # print(replacement_value)\n",
        "            if np.isnan(replacement_value) :\n",
        "              df_greeenHouseGas.at[i, column_name] = 0.0\n",
        "            else:\n",
        "              df_greeenHouseGas.at[i, column_name] = mean_accor_country[country][column_name]\n",
        "\n",
        "missing_percentages = df_greeenHouseGas.isna().sum() \n",
        "# display(missing_percentages)"
      ],
      "metadata": {
        "id": "4hDGC2N7YFYG"
      },
      "execution_count": null,
      "outputs": []
    },
    {
      "cell_type": "code",
      "source": [
        "#check\n",
        "afgan = df_greeenHouseGas.loc[(df_greeenHouseGas['year'] == 2020) & (df_greeenHouseGas['country'] == 'Afghanistan')]\n",
        "display(afgan)\n",
        "# null_rows.groupby('country').apply(display)\n",
        "# gb = null_rows.groupby(\"country\")\n",
        "# print(gb.count())\n",
        "# null_rows.describe()"
      ],
      "metadata": {
        "colab": {
          "base_uri": "https://localhost:8080/",
          "height": 145
        },
        "id": "feDMcS8LYJMN",
        "outputId": "1aab7221-3df8-4d58-bf2b-0dc1e443323d"
      },
      "execution_count": null,
      "outputs": [
        {
          "output_type": "display_data",
          "data": {
            "text/plain": [
              "         country  year  population  cement_co2  cement_co2_per_capita     co2  \\\n",
              "170  Afghanistan  2020  38972236.0       0.061                  0.002  11.682   \n",
              "\n",
              "     co2_per_capita  coal_co2  coal_co2_per_capita  flaring_co2  \\\n",
              "170             0.3      4.15                0.106          0.0   \n",
              "\n",
              "     flaring_co2_per_capita  gas_co2  gas_co2_per_capita  land_use_change_co2  \\\n",
              "170                     0.0    0.251               0.006                 0.33   \n",
              "\n",
              "     land_use_change_co2_per_capita    methane  methane_per_capita  \\\n",
              "170                           0.008  11.642333              0.4971   \n",
              "\n",
              "     nitrous_oxide  nitrous_oxide_per_capita  oil_co2  oil_co2_per_capita  \\\n",
              "170       3.885667                    0.1721     7.22               0.185   \n",
              "\n",
              "     total_ghg  \n",
              "170  18.114667  "
            ],
            "text/html": [
              "\n",
              "  <div id=\"df-a0712586-ceaa-4c5f-bc09-6da87944fe42\">\n",
              "    <div class=\"colab-df-container\">\n",
              "      <div>\n",
              "<style scoped>\n",
              "    .dataframe tbody tr th:only-of-type {\n",
              "        vertical-align: middle;\n",
              "    }\n",
              "\n",
              "    .dataframe tbody tr th {\n",
              "        vertical-align: top;\n",
              "    }\n",
              "\n",
              "    .dataframe thead th {\n",
              "        text-align: right;\n",
              "    }\n",
              "</style>\n",
              "<table border=\"1\" class=\"dataframe\">\n",
              "  <thead>\n",
              "    <tr style=\"text-align: right;\">\n",
              "      <th></th>\n",
              "      <th>country</th>\n",
              "      <th>year</th>\n",
              "      <th>population</th>\n",
              "      <th>cement_co2</th>\n",
              "      <th>cement_co2_per_capita</th>\n",
              "      <th>co2</th>\n",
              "      <th>co2_per_capita</th>\n",
              "      <th>coal_co2</th>\n",
              "      <th>coal_co2_per_capita</th>\n",
              "      <th>flaring_co2</th>\n",
              "      <th>flaring_co2_per_capita</th>\n",
              "      <th>gas_co2</th>\n",
              "      <th>gas_co2_per_capita</th>\n",
              "      <th>land_use_change_co2</th>\n",
              "      <th>land_use_change_co2_per_capita</th>\n",
              "      <th>methane</th>\n",
              "      <th>methane_per_capita</th>\n",
              "      <th>nitrous_oxide</th>\n",
              "      <th>nitrous_oxide_per_capita</th>\n",
              "      <th>oil_co2</th>\n",
              "      <th>oil_co2_per_capita</th>\n",
              "      <th>total_ghg</th>\n",
              "    </tr>\n",
              "  </thead>\n",
              "  <tbody>\n",
              "    <tr>\n",
              "      <th>170</th>\n",
              "      <td>Afghanistan</td>\n",
              "      <td>2020</td>\n",
              "      <td>38972236.0</td>\n",
              "      <td>0.061</td>\n",
              "      <td>0.002</td>\n",
              "      <td>11.682</td>\n",
              "      <td>0.3</td>\n",
              "      <td>4.15</td>\n",
              "      <td>0.106</td>\n",
              "      <td>0.0</td>\n",
              "      <td>0.0</td>\n",
              "      <td>0.251</td>\n",
              "      <td>0.006</td>\n",
              "      <td>0.33</td>\n",
              "      <td>0.008</td>\n",
              "      <td>11.642333</td>\n",
              "      <td>0.4971</td>\n",
              "      <td>3.885667</td>\n",
              "      <td>0.1721</td>\n",
              "      <td>7.22</td>\n",
              "      <td>0.185</td>\n",
              "      <td>18.114667</td>\n",
              "    </tr>\n",
              "  </tbody>\n",
              "</table>\n",
              "</div>\n",
              "      <button class=\"colab-df-convert\" onclick=\"convertToInteractive('df-a0712586-ceaa-4c5f-bc09-6da87944fe42')\"\n",
              "              title=\"Convert this dataframe to an interactive table.\"\n",
              "              style=\"display:none;\">\n",
              "        \n",
              "  <svg xmlns=\"http://www.w3.org/2000/svg\" height=\"24px\"viewBox=\"0 0 24 24\"\n",
              "       width=\"24px\">\n",
              "    <path d=\"M0 0h24v24H0V0z\" fill=\"none\"/>\n",
              "    <path d=\"M18.56 5.44l.94 2.06.94-2.06 2.06-.94-2.06-.94-.94-2.06-.94 2.06-2.06.94zm-11 1L8.5 8.5l.94-2.06 2.06-.94-2.06-.94L8.5 2.5l-.94 2.06-2.06.94zm10 10l.94 2.06.94-2.06 2.06-.94-2.06-.94-.94-2.06-.94 2.06-2.06.94z\"/><path d=\"M17.41 7.96l-1.37-1.37c-.4-.4-.92-.59-1.43-.59-.52 0-1.04.2-1.43.59L10.3 9.45l-7.72 7.72c-.78.78-.78 2.05 0 2.83L4 21.41c.39.39.9.59 1.41.59.51 0 1.02-.2 1.41-.59l7.78-7.78 2.81-2.81c.8-.78.8-2.07 0-2.86zM5.41 20L4 18.59l7.72-7.72 1.47 1.35L5.41 20z\"/>\n",
              "  </svg>\n",
              "      </button>\n",
              "      \n",
              "  <style>\n",
              "    .colab-df-container {\n",
              "      display:flex;\n",
              "      flex-wrap:wrap;\n",
              "      gap: 12px;\n",
              "    }\n",
              "\n",
              "    .colab-df-convert {\n",
              "      background-color: #E8F0FE;\n",
              "      border: none;\n",
              "      border-radius: 50%;\n",
              "      cursor: pointer;\n",
              "      display: none;\n",
              "      fill: #1967D2;\n",
              "      height: 32px;\n",
              "      padding: 0 0 0 0;\n",
              "      width: 32px;\n",
              "    }\n",
              "\n",
              "    .colab-df-convert:hover {\n",
              "      background-color: #E2EBFA;\n",
              "      box-shadow: 0px 1px 2px rgba(60, 64, 67, 0.3), 0px 1px 3px 1px rgba(60, 64, 67, 0.15);\n",
              "      fill: #174EA6;\n",
              "    }\n",
              "\n",
              "    [theme=dark] .colab-df-convert {\n",
              "      background-color: #3B4455;\n",
              "      fill: #D2E3FC;\n",
              "    }\n",
              "\n",
              "    [theme=dark] .colab-df-convert:hover {\n",
              "      background-color: #434B5C;\n",
              "      box-shadow: 0px 1px 3px 1px rgba(0, 0, 0, 0.15);\n",
              "      filter: drop-shadow(0px 1px 2px rgba(0, 0, 0, 0.3));\n",
              "      fill: #FFFFFF;\n",
              "    }\n",
              "  </style>\n",
              "\n",
              "      <script>\n",
              "        const buttonEl =\n",
              "          document.querySelector('#df-a0712586-ceaa-4c5f-bc09-6da87944fe42 button.colab-df-convert');\n",
              "        buttonEl.style.display =\n",
              "          google.colab.kernel.accessAllowed ? 'block' : 'none';\n",
              "\n",
              "        async function convertToInteractive(key) {\n",
              "          const element = document.querySelector('#df-a0712586-ceaa-4c5f-bc09-6da87944fe42');\n",
              "          const dataTable =\n",
              "            await google.colab.kernel.invokeFunction('convertToInteractive',\n",
              "                                                     [key], {});\n",
              "          if (!dataTable) return;\n",
              "\n",
              "          const docLinkHtml = 'Like what you see? Visit the ' +\n",
              "            '<a target=\"_blank\" href=https://colab.research.google.com/notebooks/data_table.ipynb>data table notebook</a>'\n",
              "            + ' to learn more about interactive tables.';\n",
              "          element.innerHTML = '';\n",
              "          dataTable['output_type'] = 'display_data';\n",
              "          await google.colab.output.renderOutput(dataTable, element);\n",
              "          const docLink = document.createElement('div');\n",
              "          docLink.innerHTML = docLinkHtml;\n",
              "          element.appendChild(docLink);\n",
              "        }\n",
              "      </script>\n",
              "    </div>\n",
              "  </div>\n",
              "  "
            ]
          },
          "metadata": {}
        }
      ]
    },
    {
      "cell_type": "code",
      "source": [
        "#Mean according to country\n",
        "\n",
        "mean_accor_country_Array = []\n",
        "\n",
        "for country in unique_values_country_list:\n",
        "  countryName = country\n",
        "  selecte_country_rows = df_greeenHouseGas.loc[(df_greeenHouseGas['country'] == countryName)]\n",
        "  # display(selecte_country_rows)\n",
        "  mean_accor_year_Obj = {}\n",
        "  for column_name in selecte_country_rows.columns:\n",
        "    if selecte_country_rows[column_name].dtype != object:\n",
        "        mean = selecte_country_rows[column_name].mean()\n",
        "        mean_accor_year_Obj[column_name] = mean\n",
        "    mean_accor_year_Obj['country'] = countryName\n",
        "\n",
        "  mean_accor_country_Array.append(mean_accor_year_Obj)\n",
        "\n",
        "  # mean_accor_country[country] = mean_accor_year"
      ],
      "metadata": {
        "id": "Tkn-nQTQYLnF"
      },
      "execution_count": null,
      "outputs": []
    },
    {
      "cell_type": "code",
      "source": [
        "#Find variance and check compatibality test \n",
        "\n",
        "# dataset_population = np.var(df_greeenHouseGas['co2'])\n",
        "# dataset_co2 = np.var(df_greeenHouseGas['total_ghg'])\n",
        "\n",
        "# ratio= max(dataset_population, dataset_co2)/min(dataset_population, dataset_co2)\n",
        "\n",
        "# print(\"The variance ratio is: \", ratio)\n",
        "\n",
        "# iterating the columns\n",
        "for col in df_greeenHouseGas.columns:\n",
        "    print(col)\n",
        "\n",
        "# alpha = 0.05\n",
        "\n",
        "# #find variance for each group\n",
        "\n",
        "# #perform two sample t-test with equal variances\n",
        "\n",
        "# t2, p= stats.ttest_ind (a=dataset_PM25, b=dataset_PM10, equal_var=True)\n",
        "\n",
        "# print(\"p value {:}\".format(p)) print(\"t value (:8)\". format(t2))\n",
        "\n",
        "# if palpha: # null hypothesis: x comes from a normal distribution print(\"The null hypothesis can be rejected\") else:\n",
        "\n",
        "# print(\"The null hypothesis is accepted\")\n"
      ],
      "metadata": {
        "colab": {
          "base_uri": "https://localhost:8080/"
        },
        "id": "Sg-e_dxeaRsD",
        "outputId": "1879c3b0-c114-431a-f037-1b347f6929d8"
      },
      "execution_count": null,
      "outputs": [
        {
          "output_type": "stream",
          "name": "stdout",
          "text": [
            "country\n",
            "year\n",
            "population\n",
            "cement_co2\n",
            "cement_co2_per_capita\n",
            "co2\n",
            "co2_per_capita\n",
            "coal_co2\n",
            "coal_co2_per_capita\n",
            "flaring_co2\n",
            "flaring_co2_per_capita\n",
            "gas_co2\n",
            "gas_co2_per_capita\n",
            "land_use_change_co2\n",
            "land_use_change_co2_per_capita\n",
            "methane\n",
            "methane_per_capita\n",
            "nitrous_oxide\n",
            "nitrous_oxide_per_capita\n",
            "oil_co2\n",
            "oil_co2_per_capita\n",
            "total_ghg\n"
          ]
        }
      ]
    },
    {
      "cell_type": "code",
      "source": [
        "#Countries by continent\n",
        "\n",
        "asia_countries = ['Afghanistan', 'Bahrain', 'Bangladesh', 'Bhutan', 'Brunei', 'Cambodia', 'China', 'Cyprus', 'Georgia', 'India', 'Indonesia', 'Iran', 'Iraq', 'Israel', 'Japan', 'Jordan', 'Kazakhstan', 'Kuwait', 'Kyrgyzstan', 'Laos', 'Lebanon', 'Malaysia', 'Maldives', 'Mongolia', 'Myanmar', 'Nepal', 'North Korea', 'Oman', 'Pakistan', 'Palestine', 'Philippines', 'Qatar', 'Russia', 'Saudi Arabia', 'Singapore', 'South Korea', 'Sri Lanka', 'Syria', 'Taiwan', 'Tajikistan', 'Thailand', 'Timor-Leste', 'Turkey', 'Turkmenistan', 'United Arab Emirates', 'Uzbekistan', 'Vietnam', 'Yemen']\n",
        "\n",
        "europe_countries = ['Albania', 'Andorra', 'Austria', 'Belarus', 'Belgium', 'Bosnia and Herzegovina', 'Bulgaria', 'Croatia', 'Cyprus', 'Czech Republic', 'Denmark', 'Estonia', 'Finland', 'France', 'Germany', 'Greece', 'Hungary', 'Iceland', 'Ireland', 'Italy', 'Kosovo', 'Latvia', 'Liechtenstein', 'Lithuania', 'Luxembourg', 'Malta', 'Moldova', 'Monaco', 'Montenegro', 'Netherlands', 'North Macedonia', 'Norway', 'Poland', 'Portugal', 'Romania', 'Russia', 'San Marino', 'Serbia', 'Slovakia', 'Slovenia', 'Spain', 'Sweden', 'Switzerland', 'Ukraine', 'United Kingdom', 'Vatican City']\n",
        "\n",
        "african_countries = ['Algeria', 'Angola', 'Benin', 'Botswana', 'Burkina Faso', 'Burundi', 'Cameroon', 'Cape Verde', 'Central African Republic', 'Chad', 'Comoros', 'Democratic Republic of the Congo', 'Republic of the Congo', 'Cote d\\'Ivoire', 'Djibouti', 'Egypt', 'Equatorial Guinea', 'Eritrea', 'Eswatini', 'Ethiopia', 'Gabon', 'Gambia', 'Ghana', 'Guinea', 'Guinea-Bissau', 'Kenya', 'Lesotho', 'Liberia', 'Libya', 'Madagascar', 'Malawi', 'Mali', 'Mauritania', 'Mauritius', 'Morocco', 'Mozambique', 'Namibia', 'Niger', 'Nigeria', 'Rwanda', 'Sao Tome and Principe', 'Senegal', 'Seychelles', 'Sierra Leone', 'Somalia', 'South Africa', 'South Sudan', 'Sudan', 'Tanzania', 'Togo', 'Tunisia', 'Uganda', 'Zambia', 'Zimbabwe']\n",
        "\n",
        "north_america = ['Canada', 'United States', 'Mexico', 'Greenland', 'Cuba', 'Haiti', 'Dominican Republic', 'Jamaica', 'Trinidad and Tobago', 'Costa Rica', 'Panama', 'El Salvador', 'Honduras', 'Guatemala', 'Belize', 'Nicaragua', 'Saint Kitts and Nevis', 'Saint Lucia', 'Saint Vincent and the Grenadines', 'Antigua and Barbuda', 'Barbados', 'The Bahamas']\n",
        "\n",
        "south_america = ['Argentina', 'Bolivia', 'Brazil', 'Chile', 'Colombia', 'Ecuador', 'Guyana', 'Paraguay', 'Peru', 'Suriname', 'Uruguay', 'Venezuela']\n",
        "\n",
        "australia = ['Australia', 'Papua New Guinea', 'New Zealand', 'Fiji', 'Solomon Islands', 'Micronesia', 'Vanuatu', 'New Caledonia', 'French Polynesia','Kiribati','Tonga','Marshall Islands','Northern Mariana Islands','American Samoa','Palau','Cook Islands','\tTuvalu','Nauru','Niue','Tokelau']\n",
        "\n"
      ],
      "metadata": {
        "id": "0h5IX4t1bIv5"
      },
      "execution_count": null,
      "outputs": []
    },
    {
      "cell_type": "code",
      "source": [
        "# T test between co2 and total_ghg in Asia\n",
        "from scipy import stats\n",
        "print(\"T test between co2 and total ghg gas in Asia\")\n",
        "\n",
        "df_filtered_by_country = df_greeenHouseGas[df_greeenHouseGas['country'].isin(asia_countries)]\n",
        "column1 = 'co2'\n",
        "column2 = 'total_ghg'\n",
        "df_filtered_by_country = df_filtered_by_country[[column1,column2]]\n",
        "\n",
        "# Drop columns where the value is zero\n",
        "\n",
        "df_filtered_by_country = df_filtered_by_country[(df_filtered_by_country != 0).all(1)]\n",
        "\n",
        "if (df_filtered_by_country == 0).any().any():\n",
        "    print(\"There is at least one zero value in the dataframe\")\n",
        "else:\n",
        "    print(\"There are no zero values in the dataframe\")\n",
        "\n",
        "num_rows = df_filtered_by_country.shape[0]\n",
        "# print(num_rows)\n",
        "\n",
        "dataset_column_1 = df_filtered_by_country[column1]\n",
        "dataset_column_2 = df_filtered_by_country[column2]\n",
        "\n",
        "ratio= max(np.var(dataset_column_1), np.var(dataset_column_2))/min(np.var(dataset_column_1), np.var(dataset_column_2))\n",
        "\n",
        "print(\"The variance ratio is: \", ratio)\n",
        "\n",
        "alpha = 0.05\n",
        "\n",
        "#t-test\n",
        "t_value, p_value = stats.ttest_ind(dataset_column_1, dataset_column_2 )\n",
        "\n",
        "print(\"p value: \", p_value)\n",
        "print(\"t value: \", t_value)\n",
        "\n",
        "if p_value < alpha:\n",
        "  print(\"Null Hypothesis Is Rejected\")\n",
        "else:\n",
        "  print(\"Null Hypothesis Is Accepted\")\n",
        "\n",
        "\n"
      ],
      "metadata": {
        "colab": {
          "base_uri": "https://localhost:8080/"
        },
        "id": "jLFcvFRIbTKx",
        "outputId": "03de987a-dd4f-49cb-c230-5c2de66ab41e"
      },
      "execution_count": null,
      "outputs": [
        {
          "output_type": "stream",
          "name": "stdout",
          "text": [
            "T test between co2 and total ghg gas in Asia\n",
            "There are no zero values in the dataframe\n",
            "The variance ratio is:  1.184023146329435\n",
            "p value:  0.0542429047039973\n",
            "t value:  -1.9256787930636554\n",
            "Null Hypothesis Is Accepted\n"
          ]
        }
      ]
    },
    {
      "cell_type": "code",
      "source": [
        "# T test between co2 and total_ghg in Europe\n",
        "from scipy import stats\n",
        "\n",
        "print(\"T test between co2 and total ghg gas in Europe\")\n",
        "\n",
        "df_filtered_by_country = df_greeenHouseGas[df_greeenHouseGas['country'].isin(europe_countries)]\n",
        "column1 = 'co2'\n",
        "column2 = 'total_ghg'\n",
        "df_filtered_by_country = df_filtered_by_country[[column1,column2]]\n",
        "\n",
        "# Drop columns where the value is zero\n",
        "# df_filtered_by_country = df_filtered_by_country.dropna(subset=None, how='any', axis=0)\n",
        "df_filtered_by_country = df_filtered_by_country[(df_filtered_by_country != 0).all(1)]\n",
        "\n",
        "if (df_filtered_by_country == 0).any().any():\n",
        "    print(\"There is at least one zero value in the dataframe\")\n",
        "else:\n",
        "    print(\"There are no zero values in the dataframe\")\n",
        "\n",
        "num_rows = df_filtered_by_country.shape[0]\n",
        "# print(num_rows)\n",
        "\n",
        "dataset_column_1 = df_filtered_by_country[column1]\n",
        "dataset_column_2 = df_filtered_by_country[column2]\n",
        "\n",
        "ratio= max(np.var(dataset_column_1), np.var(dataset_column_2))/min(np.var(dataset_column_1), np.var(dataset_column_2))\n",
        "\n",
        "print(\"The variance ratio is: \", ratio)\n",
        "\n",
        "alpha = 0.05\n",
        "\n",
        "#t-test\n",
        "t_value, p_value = stats.ttest_ind(dataset_column_1, dataset_column_2 )\n",
        "\n",
        "print(\"p value: \", p_value)\n",
        "print(\"t value: \", t_value)\n",
        "\n",
        "if p_value < alpha:\n",
        "  print(\"Null Hypothesis Is Rejected\")\n",
        "else:\n",
        "  print(\"Null Hypothesis Is Accepted\")\n",
        "\n"
      ],
      "metadata": {
        "colab": {
          "base_uri": "https://localhost:8080/"
        },
        "id": "2rqfC7K3V4pF",
        "outputId": "abaf6222-a392-4921-fdd6-912f014d78df"
      },
      "execution_count": null,
      "outputs": [
        {
          "output_type": "stream",
          "name": "stdout",
          "text": [
            "T test between co2 and total ghg gas in Europe\n",
            "There are no zero values in the dataframe\n",
            "The variance ratio is:  1.156002613505089\n",
            "p value:  0.3119993284718027\n",
            "t value:  -1.0112308557586818\n",
            "Null Hypothesis Is Accepted\n"
          ]
        }
      ]
    },
    {
      "cell_type": "code",
      "source": [
        "# T test between co2 and total_ghg in Africa\n",
        "from scipy import stats\n",
        "\n",
        "print(\"T test between co2 and total ghg gas in Africa\")\n",
        "\n",
        "df_filtered_by_country = df_greeenHouseGas[df_greeenHouseGas['country'].isin(african_countries)]\n",
        "column1 = 'co2'\n",
        "column2 = 'total_ghg'\n",
        "df_filtered_by_country = df_filtered_by_country[[column1,column2]]\n",
        "\n",
        "# Drop columns where the value is zero\n",
        "# df_filtered_by_country = df_filtered_by_country.dropna(subset=None, how='any', axis=0)\n",
        "df_filtered_by_country = df_filtered_by_country[(df_filtered_by_country != 0).all(1)]\n",
        "\n",
        "if (df_filtered_by_country == 0).any().any():\n",
        "    print(\"There is at least one zero value in the dataframe\")\n",
        "else:\n",
        "    print(\"There are no zero values in the dataframe\")\n",
        "\n",
        "num_rows = df_filtered_by_country.shape[0]\n",
        "# print(num_rows)\n",
        "\n",
        "dataset_column_1 = df_filtered_by_country[column1]\n",
        "dataset_column_2 = df_filtered_by_country[column2]\n",
        "\n",
        "ratio= max(np.var(dataset_column_1), np.var(dataset_column_2))/min(np.var(dataset_column_1), np.var(dataset_column_2))\n",
        "\n",
        "print(\"The variance ratio is: \", ratio)\n",
        "\n",
        "alpha = 0.05\n",
        "\n",
        "#t-test\n",
        "t_value, p_value = stats.ttest_ind(dataset_column_1, dataset_column_2 )\n",
        "\n",
        "print(\"p value: \", p_value)\n",
        "print(\"t value: \", t_value)\n",
        "\n",
        "if p_value < alpha:\n",
        "  print(\"Null Hypothesis Is Rejected\")\n",
        "else:\n",
        "  print(\"Null Hypothesis Is Accepted\")\n"
      ],
      "metadata": {
        "colab": {
          "base_uri": "https://localhost:8080/"
        },
        "id": "13v9Wr93WALg",
        "outputId": "5cc0bfe1-171b-4472-c376-d2889e7d8764"
      },
      "execution_count": null,
      "outputs": [
        {
          "output_type": "stream",
          "name": "stdout",
          "text": [
            "T test between co2 and total ghg gas in Africa\n",
            "There are no zero values in the dataframe\n",
            "The variance ratio is:  1.7629708549190608\n",
            "p value:  1.6697930485416337e-45\n",
            "t value:  -14.375387729923323\n",
            "Null Hypothesis Is Rejected\n"
          ]
        }
      ]
    },
    {
      "cell_type": "code",
      "source": [
        "# T test between co2 and total_ghg in Australia\n",
        "from scipy import stats\n",
        "\n",
        "print(\"T test between co2 and total ghg gas in Australia\")\n",
        "\n",
        "df_filtered_by_country = df_greeenHouseGas[df_greeenHouseGas['country'].isin(australia)]\n",
        "column1 = 'co2'\n",
        "column2 = 'total_ghg'\n",
        "df_filtered_by_country = df_filtered_by_country[[column1,column2]]\n",
        "\n",
        "# Drop columns where the value is zero\n",
        "# df_filtered_by_country = df_filtered_by_country.dropna(subset=None, how='any', axis=0)\n",
        "df_filtered_by_country = df_filtered_by_country[(df_filtered_by_country != 0).all(1)]\n",
        "\n",
        "if (df_filtered_by_country == 0).any().any():\n",
        "    print(\"There is at least one zero value in the dataframe\")\n",
        "else:\n",
        "    print(\"There are no zero values in the dataframe\")\n",
        "\n",
        "num_rows = df_filtered_by_country.shape[0]\n",
        "# print(num_rows)\n",
        "\n",
        "dataset_column_1 = df_filtered_by_country[column1]\n",
        "dataset_column_2 = df_filtered_by_country[column2]\n",
        "\n",
        "ratio= max(np.var(dataset_column_1), np.var(dataset_column_2))/min(np.var(dataset_column_1), np.var(dataset_column_2))\n",
        "\n",
        "print(\"The variance ratio is: \", ratio)\n",
        "\n",
        "alpha = 0.05\n",
        "\n",
        "#t-test\n",
        "t_value, p_value = stats.ttest_ind(dataset_column_1, dataset_column_2 )\n",
        "\n",
        "print(\"p value: \", p_value)\n",
        "print(\"t value: \", t_value)\n",
        "\n",
        "if p_value < alpha:\n",
        "  print(\"Null Hypothesis Is Rejected\")\n",
        "else:\n",
        "  print(\"Null Hypothesis Is Accepted\")\n"
      ],
      "metadata": {
        "colab": {
          "base_uri": "https://localhost:8080/"
        },
        "id": "1EY2Vz9GWNb7",
        "outputId": "84dc79ae-75bb-40fb-f1fb-c1e1034b2c79"
      },
      "execution_count": null,
      "outputs": [
        {
          "output_type": "stream",
          "name": "stdout",
          "text": [
            "T test between co2 and total ghg gas in Australia\n",
            "There are no zero values in the dataframe\n",
            "The variance ratio is:  2.607797402625915\n",
            "p value:  0.009940113017316843\n",
            "t value:  -2.58391322108322\n",
            "Null Hypothesis Is Rejected\n"
          ]
        }
      ]
    },
    {
      "cell_type": "code",
      "source": [
        "# T test between co2 and coal_co2 in Asia\n",
        "from scipy import stats\n",
        "print(\"T test between co2 and coal co2 in Asia\")\n",
        "\n",
        "df_filtered_by_country = df_greeenHouseGas[df_greeenHouseGas['country'].isin(asia_countries)]\n",
        "column1 = 'co2'\n",
        "column2 = 'coal_co2'\n",
        "df_filtered_by_country = df_filtered_by_country[[column1,column2]]\n",
        "\n",
        "# Drop columns where the value is zero\n",
        "# df_filtered_by_country = df_filtered_by_country.dropna(subset=None, how='any', axis=0)\n",
        "df_filtered_by_country = df_filtered_by_country[(df_filtered_by_country != 0).all(1)]\n",
        "\n",
        "if (df_filtered_by_country == 0).any().any():\n",
        "    print(\"There is at least one zero value in the dataframe\")\n",
        "else:\n",
        "    print(\"There are no zero values in the dataframe\")\n",
        "\n",
        "num_rows = df_filtered_by_country.shape[0]\n",
        "# print(num_rows)\n",
        "\n",
        "dataset_column_1 = df_filtered_by_country[column1]\n",
        "dataset_column_2 = df_filtered_by_country[column2]\n",
        "\n",
        "ratio= max(np.var(dataset_column_1), np.var(dataset_column_2))/min(np.var(dataset_column_1), np.var(dataset_column_2))\n",
        "\n",
        "print(\"The variance ratio is: \", ratio)\n",
        "\n",
        "alpha = 0.05\n",
        "\n",
        "#t-test\n",
        "t_value, p_value = stats.ttest_ind(dataset_column_1, dataset_column_2 )\n",
        "\n",
        "print(\"p value: \", p_value)\n",
        "print(\"t value: \", t_value)\n",
        "\n",
        "if p_value < alpha:\n",
        "  print(\"Null Hypothesis Is Rejected\")\n",
        "else:\n",
        "  print(\"Null Hypothesis Is Accepted\")\n"
      ],
      "metadata": {
        "colab": {
          "base_uri": "https://localhost:8080/"
        },
        "id": "xSSvZVG6WhwC",
        "outputId": "e0811bdb-68dc-4f58-ebf9-b51ec1d46a59"
      },
      "execution_count": null,
      "outputs": [
        {
          "output_type": "stream",
          "name": "stdout",
          "text": [
            "T test between co2 and coal co2 in Asia\n",
            "There are no zero values in the dataframe\n",
            "The variance ratio is:  1.9376405613743652\n",
            "p value:  2.9549412087996e-05\n",
            "t value:  4.185596235884583\n",
            "Null Hypothesis Is Rejected\n"
          ]
        }
      ]
    },
    {
      "cell_type": "code",
      "source": [
        "# T test between co2 and coal_co2 in Africa\n",
        "from scipy import stats\n",
        "\n",
        "print(\"T test between co2 and coal co2 in Africa\")\n",
        "\n",
        "df_filtered_by_country = df_greeenHouseGas[df_greeenHouseGas['country'].isin(african_countries)]\n",
        "column1 = 'co2'\n",
        "column2 = 'coal_co2'\n",
        "df_filtered_by_country = df_filtered_by_country[[column1,column2]]\n",
        "\n",
        "# Drop columns where the value is zero\n",
        "# df_filtered_by_country = df_filtered_by_country.dropna(subset=None, how='any', axis=0)\n",
        "df_filtered_by_country = df_filtered_by_country[(df_filtered_by_country != 0).all(1)]\n",
        "\n",
        "if (df_filtered_by_country == 0).any().any():\n",
        "    print(\"There is at least one zero value in the dataframe\")\n",
        "else:\n",
        "    print(\"There are no zero values in the dataframe\")\n",
        "\n",
        "num_rows = df_filtered_by_country.shape[0]\n",
        "# print(num_rows)\n",
        "\n",
        "dataset_column_1 = df_filtered_by_country[column1]\n",
        "dataset_column_2 = df_filtered_by_country[column2]\n",
        "\n",
        "ratio= max(np.var(dataset_column_1), np.var(dataset_column_2))/min(np.var(dataset_column_1), np.var(dataset_column_2))\n",
        "\n",
        "print(\"The variance ratio is: \", ratio)\n",
        "\n",
        "alpha = 0.05\n",
        "\n",
        "#t-test\n",
        "t_value, p_value = stats.ttest_ind(dataset_column_1, dataset_column_2 )\n",
        "\n",
        "print(\"p value: \", p_value)\n",
        "print(\"t value: \", t_value)\n",
        "\n",
        "if p_value < alpha:\n",
        "  print(\"Null Hypothesis Is Rejected\")\n",
        "else:\n",
        "  print(\"Null Hypothesis Is Accepted\")\n"
      ],
      "metadata": {
        "colab": {
          "base_uri": "https://localhost:8080/"
        },
        "id": "XFdo37g3W38H",
        "outputId": "3ca733bf-74e9-4d42-8753-fbb813e02569"
      },
      "execution_count": null,
      "outputs": [
        {
          "output_type": "stream",
          "name": "stdout",
          "text": [
            "T test between co2 and coal co2 in Africa\n",
            "There are no zero values in the dataframe\n",
            "The variance ratio is:  1.5893029414468904\n",
            "p value:  1.801881317431634e-07\n",
            "t value:  5.245468482788616\n",
            "Null Hypothesis Is Rejected\n"
          ]
        }
      ]
    },
    {
      "cell_type": "code",
      "source": [
        "# T test between land_use_change_co2 and coal_co2 in Africa\n",
        "from scipy import stats\n",
        "\n",
        "print(\"T test between land use change co2 and coal co2 in Africa\")\n",
        "\n",
        "df_filtered_by_country = df_greeenHouseGas[df_greeenHouseGas['country'].isin(african_countries)]\n",
        "column1 = 'land_use_change_co2'\n",
        "column2 = 'coal_co2'\n",
        "df_filtered_by_country = df_filtered_by_country[[column1,column2]]\n",
        "\n",
        "# Drop columns where the value is zero\n",
        "# df_filtered_by_country = df_filtered_by_country.dropna(subset=None, how='any', axis=0)\n",
        "df_filtered_by_country = df_filtered_by_country[(df_filtered_by_country != 0).all(1)]\n",
        "\n",
        "if (df_filtered_by_country == 0).any().any():\n",
        "    print(\"There is at least one zero value in the dataframe\")\n",
        "else:\n",
        "    print(\"There are no zero values in the dataframe\")\n",
        "\n",
        "num_rows = df_filtered_by_country.shape[0]\n",
        "# print(num_rows)\n",
        "\n",
        "dataset_column_1 = df_filtered_by_country[column1]\n",
        "dataset_column_2 = df_filtered_by_country[column2]\n",
        "\n",
        "ratio= max(np.var(dataset_column_1), np.var(dataset_column_2))/min(np.var(dataset_column_1), np.var(dataset_column_2))\n",
        "\n",
        "print(\"The variance ratio is: \", ratio)\n",
        "\n",
        "alpha = 0.05\n",
        "\n",
        "#t-test\n",
        "t_value, p_value = stats.ttest_ind(dataset_column_1, dataset_column_2 )\n",
        "\n",
        "print(\"p value: \", p_value)\n",
        "print(\"t value: \", t_value)\n",
        "\n",
        "if p_value < alpha:\n",
        "  print(\"Null Hypothesis Is Rejected\")\n",
        "else:\n",
        "  print(\"Null Hypothesis Is Accepted\")\n"
      ],
      "metadata": {
        "colab": {
          "base_uri": "https://localhost:8080/"
        },
        "id": "6gIadeBXXB9F",
        "outputId": "8a741b70-90b6-4597-c9ba-0c4bfeb0c53e"
      },
      "execution_count": null,
      "outputs": [
        {
          "output_type": "stream",
          "name": "stdout",
          "text": [
            "T test between land use change co2 and coal co2 in Africa\n",
            "There are no zero values in the dataframe\n",
            "The variance ratio is:  2.7631014643943703\n",
            "p value:  0.003405810293273801\n",
            "t value:  2.9336373165531135\n",
            "Null Hypothesis Is Rejected\n"
          ]
        }
      ]
    },
    {
      "cell_type": "code",
      "source": [
        "# T test between coal and oil in Europe\n",
        "from scipy import stats\n",
        "print(\"T test between coal and oil co2 in Europe\")\n",
        "df_filtered_by_country = df_greeenHouseGas[df_greeenHouseGas['country'].isin(europe_countries)]\n",
        "column1 = 'oil_co2'\n",
        "column2 = 'coal_co2'\n",
        "df_filtered_by_country = df_filtered_by_country[[column1,column2]]\n",
        "\n",
        "# Drop columns where the value is zero\n",
        "# df_filtered_by_country = df_filtered_by_country.dropna(subset=None, how='any', axis=0)\n",
        "df_filtered_by_country = df_filtered_by_country[(df_filtered_by_country != 0).all(1)]\n",
        "\n",
        "if (df_filtered_by_country == 0).any().any():\n",
        "    print(\"There is at least one zero value in the dataframe\")\n",
        "else:\n",
        "    print(\"There are no zero values in the dataframe\")\n",
        "\n",
        "num_rows = df_filtered_by_country.shape[0]\n",
        "# print(num_rows)\n",
        "\n",
        "dataset_column_1 = df_filtered_by_country[column1]\n",
        "dataset_column_2 = df_filtered_by_country[column2]\n",
        "\n",
        "ratio= max(np.var(dataset_column_1), np.var(dataset_column_2))/min(np.var(dataset_column_1), np.var(dataset_column_2))\n",
        "\n",
        "print(\"The variance ratio is: \", ratio)\n",
        "\n",
        "alpha = 0.05\n",
        "\n",
        "#t-test\n",
        "t_value, p_value = stats.ttest_ind(dataset_column_1, dataset_column_2 )\n",
        "\n",
        "print(\"p value: \", p_value)\n",
        "print(\"t value: \", t_value)\n",
        "\n",
        "if p_value < alpha:\n",
        "  print(\"Null Hypothesis Is Rejected\")\n",
        "else:\n",
        "  print(\"Null Hypothesis Is Accepted\")\n"
      ],
      "metadata": {
        "colab": {
          "base_uri": "https://localhost:8080/"
        },
        "id": "EDrzSATxXQK_",
        "outputId": "8d53d4cc-978a-4b8f-8bfe-b79ff721c398"
      },
      "execution_count": null,
      "outputs": [
        {
          "output_type": "stream",
          "name": "stdout",
          "text": [
            "T test between coal and oil co2 in Europe\n",
            "There are no zero values in the dataframe\n",
            "The variance ratio is:  1.102679155843684\n",
            "p value:  0.05914077505760557\n",
            "t value:  1.8880170148817825\n",
            "Null Hypothesis Is Accepted\n"
          ]
        }
      ]
    },
    {
      "cell_type": "code",
      "source": [
        "# T test between coal and gas in Europe\n",
        "from scipy import stats\n",
        "\n",
        "print(\" T test between coal and gas co2 in Europe\")\n",
        "\n",
        "df_filtered_by_country = df_greeenHouseGas[df_greeenHouseGas['country'].isin(europe_countries)]\n",
        "column1 = 'gas_co2'\n",
        "column2 = 'coal_co2'\n",
        "df_filtered_by_country = df_filtered_by_country[[column1,column2]]\n",
        "\n",
        "# Drop columns where the value is zero\n",
        "# df_filtered_by_country = df_filtered_by_country.dropna(subset=None, how='any', axis=0)\n",
        "df_filtered_by_country = df_filtered_by_country[(df_filtered_by_country != 0).all(1)]\n",
        "\n",
        "if (df_filtered_by_country == 0).any().any():\n",
        "    print(\"There is at least one zero value in the dataframe\")\n",
        "else:\n",
        "    print(\"There are no zero values in the dataframe\")\n",
        "\n",
        "num_rows = df_filtered_by_country.shape[0]\n",
        "# print(num_rows)\n",
        "\n",
        "dataset_column_1 = df_filtered_by_country[column1]\n",
        "dataset_column_2 = df_filtered_by_country[column2]\n",
        "\n",
        "ratio= max(np.var(dataset_column_1), np.var(dataset_column_2))/min(np.var(dataset_column_1), np.var(dataset_column_2))\n",
        "\n",
        "print(\"The variance ratio is: \", ratio)\n",
        "\n",
        "alpha = 0.05\n",
        "\n",
        "#t-test\n",
        "t_value, p_value = stats.ttest_ind(dataset_column_1, dataset_column_2 )\n",
        "\n",
        "print(\"p value: \", p_value)\n",
        "print(\"t value: \", t_value)\n",
        "\n",
        "if p_value < alpha:\n",
        "  print(\"Null Hypothesis Is Rejected\")\n",
        "else:\n",
        "  print(\"Null Hypothesis Is Accepted\")\n"
      ],
      "metadata": {
        "colab": {
          "base_uri": "https://localhost:8080/"
        },
        "id": "bAHyeDsPXa7T",
        "outputId": "60896406-7026-4cbd-b5cf-ae59020f4b45"
      },
      "execution_count": null,
      "outputs": [
        {
          "output_type": "stream",
          "name": "stdout",
          "text": [
            " T test between coal and gas co2 in Europe\n",
            "There are no zero values in the dataframe\n",
            "The variance ratio is:  1.615047855577658\n",
            "p value:  0.7887581596363937\n",
            "t value:  -0.26795524134275717\n",
            "Null Hypothesis Is Accepted\n"
          ]
        }
      ]
    },
    {
      "cell_type": "code",
      "source": [
        "# T test between oil and gas in North America\n",
        "from scipy import stats\n",
        "\n",
        "print(\"T test between oil and gas co2 in North America\")\n",
        "\n",
        "df_filtered_by_country = df_greeenHouseGas[df_greeenHouseGas['country'].isin(north_america)]\n",
        "column1 = 'oil_co2'\n",
        "column2 = 'gas_co2'\n",
        "df_filtered_by_country = df_filtered_by_country[[column1,column2]]\n",
        "\n",
        "# Drop columns where the value is zero\n",
        "# df_filtered_by_country = df_filtered_by_country.dropna(subset=None, how='any', axis=0)\n",
        "df_filtered_by_country = df_filtered_by_country[(df_filtered_by_country != 0).all(1)]\n",
        "\n",
        "if (df_filtered_by_country == 0).any().any():\n",
        "    print(\"There is at least one zero value in the dataframe\")\n",
        "else:\n",
        "    print(\"There are no zero values in the dataframe\")\n",
        "\n",
        "num_rows = df_filtered_by_country.shape[0]\n",
        "# print(num_rows)\n",
        "\n",
        "dataset_column_1 = df_filtered_by_country[column1]\n",
        "dataset_column_2 = df_filtered_by_country[column2]\n",
        "\n",
        "ratio= max(np.var(dataset_column_1), np.var(dataset_column_2))/min(np.var(dataset_column_1), np.var(dataset_column_2))\n",
        "\n",
        "print(\"The variance ratio is: \", ratio)\n",
        "\n",
        "alpha = 0.05\n",
        "\n",
        "#t-test\n",
        "t_value, p_value = stats.ttest_ind(dataset_column_1, dataset_column_2 )\n",
        "\n",
        "print(\"p value: \", p_value)\n",
        "print(\"t value: \", t_value)\n",
        "\n",
        "if p_value < alpha:\n",
        "  print(\"Null Hypothesis Is Rejected\")\n",
        "else:\n",
        "  print(\"Null Hypothesis Is Accepted\")\n"
      ],
      "metadata": {
        "colab": {
          "base_uri": "https://localhost:8080/"
        },
        "id": "AU9-_gBxXnHT",
        "outputId": "5b752be1-023a-4349-b1df-fe98a8c4ef46"
      },
      "execution_count": null,
      "outputs": [
        {
          "output_type": "stream",
          "name": "stdout",
          "text": [
            "T test between oil and gas co2 in North America\n",
            "There are no zero values in the dataframe\n",
            "The variance ratio is:  3.214865612692902\n",
            "p value:  0.003203535906449318\n",
            "t value:  2.9626328454316666\n",
            "Null Hypothesis Is Rejected\n"
          ]
        }
      ]
    },
    {
      "cell_type": "code",
      "source": [
        "# T test between land_use_change_co2 and total_ghg in South America\n",
        "from scipy import stats\n",
        "\n",
        "print(\"T test between land use change co2 and total ghg in South America\")\n",
        "\n",
        "df_filtered_by_country = df_greeenHouseGas[df_greeenHouseGas['country'].isin(south_america)]\n",
        "column1 = 'land_use_change_co2'\n",
        "column2 = 'total_ghg'\n",
        "df_filtered_by_country = df_filtered_by_country[[column1,column2]]\n",
        "\n",
        "# Drop columns where the value is zero\n",
        "# df_filtered_by_country = df_filtered_by_country.dropna(subset=None, how='any', axis=0)\n",
        "df_filtered_by_country = df_filtered_by_country[(df_filtered_by_country != 0).all(1)]\n",
        "\n",
        "if (df_filtered_by_country == 0).any().any():\n",
        "    print(\"There is at least one zero value in the dataframe\")\n",
        "else:\n",
        "    print(\"There are no zero values in the dataframe\")\n",
        "\n",
        "num_rows = df_filtered_by_country.shape[0]\n",
        "# print(num_rows)\n",
        "\n",
        "dataset_column_1 = df_filtered_by_country[column1]\n",
        "dataset_column_2 = df_filtered_by_country[column2]\n",
        "\n",
        "ratio= max(np.var(dataset_column_1), np.var(dataset_column_2))/min(np.var(dataset_column_1), np.var(dataset_column_2))\n",
        "\n",
        "print(\"The variance ratio is: \", ratio)\n",
        "\n",
        "alpha = 0.05\n",
        "\n",
        "#t-test\n",
        "t_value, p_value = stats.ttest_ind(dataset_column_1, dataset_column_2 )\n",
        "\n",
        "print(\"p value: \", p_value)\n",
        "print(\"t value: \", t_value)\n",
        "\n",
        "if p_value < alpha:\n",
        "  print(\"Null Hypothesis Is Rejected\")\n",
        "else:\n",
        "  print(\"Null Hypothesis Is Accepted\")\n"
      ],
      "metadata": {
        "colab": {
          "base_uri": "https://localhost:8080/"
        },
        "id": "-oigkV_LX4Aj",
        "outputId": "ab620481-4992-437c-eeaa-18f24cea05c7"
      },
      "execution_count": null,
      "outputs": [
        {
          "output_type": "stream",
          "name": "stdout",
          "text": [
            "T test between land use change co2 and total ghg in South America\n",
            "There are no zero values in the dataframe\n",
            "The variance ratio is:  1.2280258347804027\n",
            "p value:  0.0004038182800784818\n",
            "t value:  -3.553241164361917\n",
            "Null Hypothesis Is Rejected\n"
          ]
        }
      ]
    },
    {
      "cell_type": "code",
      "source": [
        "# T test between co2 and methane in South America\n",
        "from scipy import stats\n",
        "\n",
        "print(\"T test between co2 and methane in South America\")\n",
        "df_filtered_by_country = df_greeenHouseGas[df_greeenHouseGas['country'].isin(south_america)]\n",
        "column1 = 'co2'\n",
        "column2 = 'methane'\n",
        "df_filtered_by_country = df_filtered_by_country[[column1,column2]]\n",
        "\n",
        "# Drop columns where the value is zero\n",
        "# df_filtered_by_country = df_filtered_by_country.dropna(subset=None, how='any', axis=0)\n",
        "df_filtered_by_country = df_filtered_by_country[(df_filtered_by_country != 0).all(1)]\n",
        "\n",
        "if (df_filtered_by_country == 0).any().any():\n",
        "    print(\"There is at least one zero value in the dataframe\")\n",
        "else:\n",
        "    print(\"There are no zero values in the dataframe\")\n",
        "\n",
        "num_rows = df_filtered_by_country.shape[0]\n",
        "# print(num_rows)\n",
        "\n",
        "dataset_column_1 = df_filtered_by_country[column1]\n",
        "dataset_column_2 = df_filtered_by_country[column2]\n",
        "\n",
        "ratio= max(np.var(dataset_column_1), np.var(dataset_column_2))/min(np.var(dataset_column_1), np.var(dataset_column_2))\n",
        "\n",
        "print(\"The variance ratio is: \", ratio)\n",
        "\n",
        "alpha = 0.05\n",
        "\n",
        "#t-test\n",
        "t_value, p_value = stats.ttest_ind(dataset_column_1, dataset_column_2 )\n",
        "\n",
        "print(\"p value: \", p_value)\n",
        "print(\"t value: \", t_value)\n",
        "\n",
        "if p_value < alpha:\n",
        "  print(\"Null Hypothesis Is Rejected\")\n",
        "else:\n",
        "  print(\"Null Hypothesis Is Accepted\")\n"
      ],
      "metadata": {
        "colab": {
          "base_uri": "https://localhost:8080/"
        },
        "id": "4CIxoH9rYqAz",
        "outputId": "c6cc6bb6-240c-44c4-80fc-b3fa97cda5c5"
      },
      "execution_count": null,
      "outputs": [
        {
          "output_type": "stream",
          "name": "stdout",
          "text": [
            "T test between co2 and methane in South America\n",
            "There are no zero values in the dataframe\n",
            "The variance ratio is:  1.1100408772293138\n",
            "p value:  0.5803296179313125\n",
            "t value:  0.5531390120529461\n",
            "Null Hypothesis Is Accepted\n"
          ]
        }
      ]
    },
    {
      "cell_type": "code",
      "source": [
        "# T test between co2 and oil in South America\n",
        "from scipy import stats\n",
        "\n",
        "print(\"T test between co2 and oil in South America\")\n",
        "\n",
        "df_filtered_by_country = df_greeenHouseGas[df_greeenHouseGas['country'].isin(south_america)]\n",
        "column1 = 'co2'\n",
        "column2 = 'oil_co2'\n",
        "df_filtered_by_country = df_filtered_by_country[[column1,column2]]\n",
        "\n",
        "# Drop columns where the value is zero\n",
        "# df_filtered_by_country = df_filtered_by_country.dropna(subset=None, how='any', axis=0)\n",
        "df_filtered_by_country = df_filtered_by_country[(df_filtered_by_country != 0).all(1)]\n",
        "\n",
        "if (df_filtered_by_country == 0).any().any():\n",
        "    print(\"There is at least one zero value in the dataframe\")\n",
        "else:\n",
        "    print(\"There are no zero values in the dataframe\")\n",
        "\n",
        "num_rows = df_filtered_by_country.shape[0]\n",
        "# print(num_rows)\n",
        "\n",
        "dataset_column_1 = df_filtered_by_country[column1]\n",
        "dataset_column_2 = df_filtered_by_country[column2]\n",
        "\n",
        "ratio= max(np.var(dataset_column_1), np.var(dataset_column_2))/min(np.var(dataset_column_1), np.var(dataset_column_2))\n",
        "\n",
        "print(\"The variance ratio is: \", ratio)\n",
        "\n",
        "alpha = 0.05\n",
        "\n",
        "#t-test\n",
        "t_value, p_value = stats.ttest_ind(dataset_column_1, dataset_column_2 )\n",
        "\n",
        "print(\"p value: \", p_value)\n",
        "print(\"t value: \", t_value)\n",
        "\n",
        "if p_value < alpha:\n",
        "  print(\"Null Hypothesis Is Rejected\")\n",
        "else:\n",
        "  print(\"Null Hypothesis Is Accepted\")\n"
      ],
      "metadata": {
        "colab": {
          "base_uri": "https://localhost:8080/"
        },
        "id": "tHBWreOeYzQe",
        "outputId": "700dd192-be1f-45c7-add7-d2ba8cc5c7ec"
      },
      "execution_count": null,
      "outputs": [
        {
          "output_type": "stream",
          "name": "stdout",
          "text": [
            "T test between co2 and oil in South America\n",
            "There are no zero values in the dataframe\n",
            "The variance ratio is:  2.475164584414191\n",
            "p value:  6.233272834756613e-06\n",
            "t value:  4.550092657102079\n",
            "Null Hypothesis Is Rejected\n"
          ]
        }
      ]
    },
    {
      "cell_type": "code",
      "source": [
        "# T test between coal and oil in Australia\n",
        "from scipy import stats\n",
        "\n",
        "print(\"T test between coal and oil co2 in Australia\")\n",
        "\n",
        "df_filtered_by_country = df_greeenHouseGas[df_greeenHouseGas['country'].isin(australia)]\n",
        "column1 = 'coal_co2'\n",
        "column2 = 'oil_co2'\n",
        "df_filtered_by_country = df_filtered_by_country[[column1,column2]]\n",
        "\n",
        "# Drop columns where the value is zero\n",
        "# df_filtered_by_country = df_filtered_by_country.dropna(subset=None, how='any', axis=0)\n",
        "df_filtered_by_country = df_filtered_by_country[(df_filtered_by_country != 0).all(1)]\n",
        "\n",
        "if (df_filtered_by_country == 0).any().any():\n",
        "    print(\"There is at least one zero value in the dataframe\")\n",
        "else:\n",
        "    print(\"There are no zero values in the dataframe\")\n",
        "\n",
        "num_rows = df_filtered_by_country.shape[0]\n",
        "# print(num_rows)\n",
        "\n",
        "dataset_column_1 = df_filtered_by_country[column1]\n",
        "dataset_column_2 = df_filtered_by_country[column2]\n",
        "\n",
        "ratio= max(np.var(dataset_column_1), np.var(dataset_column_2))/min(np.var(dataset_column_1), np.var(dataset_column_2))\n",
        "\n",
        "print(\"The variance ratio is: \", ratio)\n",
        "\n",
        "alpha = 0.05\n",
        "\n",
        "#t-test\n",
        "t_value, p_value = stats.ttest_ind(dataset_column_1, dataset_column_2 )\n",
        "\n",
        "print(\"p value: \", p_value)\n",
        "print(\"t value: \", t_value)\n",
        "\n",
        "if p_value < alpha:\n",
        "  print(\"Null Hypothesis Is Rejected\")\n",
        "else:\n",
        "  print(\"Null Hypothesis Is Accepted\")\n"
      ],
      "metadata": {
        "colab": {
          "base_uri": "https://localhost:8080/"
        },
        "id": "9kIl8whfZCVP",
        "outputId": "baf87ebb-d4f3-43e1-d732-6e0248ae8e19"
      },
      "execution_count": null,
      "outputs": [
        {
          "output_type": "stream",
          "name": "stdout",
          "text": [
            "T test between coal and oil co2 in Australia\n",
            "There are no zero values in the dataframe\n",
            "The variance ratio is:  2.490234494403896\n",
            "p value:  0.13173907026577356\n",
            "t value:  1.5125219670792243\n",
            "Null Hypothesis Is Accepted\n"
          ]
        }
      ]
    },
    {
      "cell_type": "code",
      "source": [
        "# T test between coal and methane in Australia\n",
        "from scipy import stats\n",
        "\n",
        "print(\"T test between coal based co2 and methane in Australia\")\n",
        "\n",
        "df_filtered_by_country = df_greeenHouseGas[df_greeenHouseGas['country'].isin(australia)]\n",
        "column1 = 'coal_co2'\n",
        "column2 = 'methane'\n",
        "df_filtered_by_country = df_filtered_by_country[[column1,column2]]\n",
        "\n",
        "# Drop columns where the value is zero\n",
        "# df_filtered_by_country = df_filtered_by_country.dropna(subset=None, how='any', axis=0)\n",
        "df_filtered_by_country = df_filtered_by_country[(df_filtered_by_country != 0).all(1)]\n",
        "\n",
        "if (df_filtered_by_country == 0).any().any():\n",
        "    print(\"There is at least one zero value in the dataframe\")\n",
        "else:\n",
        "    print(\"There are no zero values in the dataframe\")\n",
        "\n",
        "num_rows = df_filtered_by_country.shape[0]\n",
        "# print(num_rows)\n",
        "\n",
        "dataset_column_1 = df_filtered_by_country[column1]\n",
        "dataset_column_2 = df_filtered_by_country[column2]\n",
        "\n",
        "ratio= max(np.var(dataset_column_1), np.var(dataset_column_2))/min(np.var(dataset_column_1), np.var(dataset_column_2))\n",
        "\n",
        "print(\"The variance ratio is: \", ratio)\n",
        "\n",
        "alpha = 0.05\n",
        "\n",
        "#t-test\n",
        "t_value, p_value = stats.ttest_ind(dataset_column_1, dataset_column_2 )\n",
        "\n",
        "print(\"p value: \", p_value)\n",
        "print(\"t value: \", t_value)\n",
        "\n",
        "if p_value < alpha:\n",
        "  print(\"Null Hypothesis Is Rejected\")\n",
        "else:\n",
        "  print(\"Null Hypothesis Is Accepted\")\n"
      ],
      "metadata": {
        "colab": {
          "base_uri": "https://localhost:8080/"
        },
        "id": "tzti_4CpZNp8",
        "outputId": "4d7e0fe8-eaed-4206-8e82-35964ef377d2"
      },
      "execution_count": null,
      "outputs": [
        {
          "output_type": "stream",
          "name": "stdout",
          "text": [
            "T test between coal based co2 and methane in Australia\n",
            "There are no zero values in the dataframe\n",
            "The variance ratio is:  2.0763009470830958\n",
            "p value:  0.7883420085713649\n",
            "t value:  0.268882951595082\n",
            "Null Hypothesis Is Accepted\n"
          ]
        }
      ]
    },
    {
      "cell_type": "code",
      "source": [
        "\n",
        "# Create a correlation matrix\n",
        "columns_choose = df_greeenHouseGas[['country','year','co2','land_use_change_co2','coal_co2','oil_co2','gas_co2','methane','nitrous_oxide','total_ghg']]\n",
        "corr= columns_choose.corr()\n",
        "display(corr)\n",
        "\n",
        "#Potting the matrix\n",
        "mask = np.zeros_like(corr, dtype=np.bool)\n",
        "mask[np.triu_indices_from(mask)] = True\n",
        "\n",
        "# matplotlib figure\n",
        "f, ax = plt.subplots(figsize=(11, 9))\n",
        "\n",
        "# Generate a custom colormap\n",
        "cmap = sns.diverging_palette(220, 10, as_cmap=True)\n",
        "\n",
        "# Draw the heatmap with styling\n",
        "\n",
        "sns.heatmap(\n",
        "    corr,          # The data to plot\n",
        "    mask=mask,     \n",
        "    cmap=cmap,     \n",
        "    annot=True,    \n",
        "    vmax=.3,       \n",
        "    vmin=-.3,      \n",
        "    center=0,      \n",
        "    square=True,   \n",
        "    linewidths=.5, \n",
        "    cbar_kws={\"shrink\": .5}  \n",
        ")\n"
      ],
      "metadata": {
        "id": "aA7xHIklb2bp",
        "colab": {
          "base_uri": "https://localhost:8080/",
          "height": 1000
        },
        "outputId": "539586d0-4e09-4ebf-d729-6a6393952933"
      },
      "execution_count": null,
      "outputs": [
        {
          "output_type": "stream",
          "name": "stderr",
          "text": [
            "<ipython-input-34-24c8895c365d>:3: FutureWarning: The default value of numeric_only in DataFrame.corr is deprecated. In a future version, it will default to False. Select only valid columns or specify the value of numeric_only to silence this warning.\n",
            "  corr= columns_choose.corr()\n"
          ]
        },
        {
          "output_type": "display_data",
          "data": {
            "text/plain": [
              "                         year       co2  land_use_change_co2  coal_co2  \\\n",
              "year                 1.000000  0.035167            -0.011212  0.029347   \n",
              "co2                  0.035167  1.000000             0.190833  0.935256   \n",
              "land_use_change_co2 -0.011212  0.190833             1.000000  0.183115   \n",
              "coal_co2             0.029347  0.935256             0.183115  1.000000   \n",
              "oil_co2              0.018003  0.870097             0.175517  0.650209   \n",
              "gas_co2              0.052192  0.720814             0.084795  0.446211   \n",
              "methane              0.021006  0.832647             0.483422  0.761522   \n",
              "nitrous_oxide        0.023712  0.879820             0.450268  0.856072   \n",
              "total_ghg            0.031318  0.972716             0.346648  0.905927   \n",
              "\n",
              "                      oil_co2   gas_co2   methane  nitrous_oxide  total_ghg  \n",
              "year                 0.018003  0.052192  0.021006       0.023712   0.031318  \n",
              "co2                  0.870097  0.720814  0.832647       0.879820   0.972716  \n",
              "land_use_change_co2  0.175517  0.084795  0.483422       0.450268   0.346648  \n",
              "coal_co2             0.650209  0.446211  0.761522       0.856072   0.905927  \n",
              "oil_co2              1.000000  0.883116  0.724783       0.737098   0.855998  \n",
              "gas_co2              0.883116  1.000000  0.656468       0.546001   0.697539  \n",
              "methane              0.724783  0.656468  1.000000       0.923682   0.893644  \n",
              "nitrous_oxide        0.737098  0.546001  0.923682       1.000000   0.930824  \n",
              "total_ghg            0.855998  0.697539  0.893644       0.930824   1.000000  "
            ],
            "text/html": [
              "\n",
              "  <div id=\"df-e42f8f79-6d87-4371-ba9e-b213bf23d4bb\">\n",
              "    <div class=\"colab-df-container\">\n",
              "      <div>\n",
              "<style scoped>\n",
              "    .dataframe tbody tr th:only-of-type {\n",
              "        vertical-align: middle;\n",
              "    }\n",
              "\n",
              "    .dataframe tbody tr th {\n",
              "        vertical-align: top;\n",
              "    }\n",
              "\n",
              "    .dataframe thead th {\n",
              "        text-align: right;\n",
              "    }\n",
              "</style>\n",
              "<table border=\"1\" class=\"dataframe\">\n",
              "  <thead>\n",
              "    <tr style=\"text-align: right;\">\n",
              "      <th></th>\n",
              "      <th>year</th>\n",
              "      <th>co2</th>\n",
              "      <th>land_use_change_co2</th>\n",
              "      <th>coal_co2</th>\n",
              "      <th>oil_co2</th>\n",
              "      <th>gas_co2</th>\n",
              "      <th>methane</th>\n",
              "      <th>nitrous_oxide</th>\n",
              "      <th>total_ghg</th>\n",
              "    </tr>\n",
              "  </thead>\n",
              "  <tbody>\n",
              "    <tr>\n",
              "      <th>year</th>\n",
              "      <td>1.000000</td>\n",
              "      <td>0.035167</td>\n",
              "      <td>-0.011212</td>\n",
              "      <td>0.029347</td>\n",
              "      <td>0.018003</td>\n",
              "      <td>0.052192</td>\n",
              "      <td>0.021006</td>\n",
              "      <td>0.023712</td>\n",
              "      <td>0.031318</td>\n",
              "    </tr>\n",
              "    <tr>\n",
              "      <th>co2</th>\n",
              "      <td>0.035167</td>\n",
              "      <td>1.000000</td>\n",
              "      <td>0.190833</td>\n",
              "      <td>0.935256</td>\n",
              "      <td>0.870097</td>\n",
              "      <td>0.720814</td>\n",
              "      <td>0.832647</td>\n",
              "      <td>0.879820</td>\n",
              "      <td>0.972716</td>\n",
              "    </tr>\n",
              "    <tr>\n",
              "      <th>land_use_change_co2</th>\n",
              "      <td>-0.011212</td>\n",
              "      <td>0.190833</td>\n",
              "      <td>1.000000</td>\n",
              "      <td>0.183115</td>\n",
              "      <td>0.175517</td>\n",
              "      <td>0.084795</td>\n",
              "      <td>0.483422</td>\n",
              "      <td>0.450268</td>\n",
              "      <td>0.346648</td>\n",
              "    </tr>\n",
              "    <tr>\n",
              "      <th>coal_co2</th>\n",
              "      <td>0.029347</td>\n",
              "      <td>0.935256</td>\n",
              "      <td>0.183115</td>\n",
              "      <td>1.000000</td>\n",
              "      <td>0.650209</td>\n",
              "      <td>0.446211</td>\n",
              "      <td>0.761522</td>\n",
              "      <td>0.856072</td>\n",
              "      <td>0.905927</td>\n",
              "    </tr>\n",
              "    <tr>\n",
              "      <th>oil_co2</th>\n",
              "      <td>0.018003</td>\n",
              "      <td>0.870097</td>\n",
              "      <td>0.175517</td>\n",
              "      <td>0.650209</td>\n",
              "      <td>1.000000</td>\n",
              "      <td>0.883116</td>\n",
              "      <td>0.724783</td>\n",
              "      <td>0.737098</td>\n",
              "      <td>0.855998</td>\n",
              "    </tr>\n",
              "    <tr>\n",
              "      <th>gas_co2</th>\n",
              "      <td>0.052192</td>\n",
              "      <td>0.720814</td>\n",
              "      <td>0.084795</td>\n",
              "      <td>0.446211</td>\n",
              "      <td>0.883116</td>\n",
              "      <td>1.000000</td>\n",
              "      <td>0.656468</td>\n",
              "      <td>0.546001</td>\n",
              "      <td>0.697539</td>\n",
              "    </tr>\n",
              "    <tr>\n",
              "      <th>methane</th>\n",
              "      <td>0.021006</td>\n",
              "      <td>0.832647</td>\n",
              "      <td>0.483422</td>\n",
              "      <td>0.761522</td>\n",
              "      <td>0.724783</td>\n",
              "      <td>0.656468</td>\n",
              "      <td>1.000000</td>\n",
              "      <td>0.923682</td>\n",
              "      <td>0.893644</td>\n",
              "    </tr>\n",
              "    <tr>\n",
              "      <th>nitrous_oxide</th>\n",
              "      <td>0.023712</td>\n",
              "      <td>0.879820</td>\n",
              "      <td>0.450268</td>\n",
              "      <td>0.856072</td>\n",
              "      <td>0.737098</td>\n",
              "      <td>0.546001</td>\n",
              "      <td>0.923682</td>\n",
              "      <td>1.000000</td>\n",
              "      <td>0.930824</td>\n",
              "    </tr>\n",
              "    <tr>\n",
              "      <th>total_ghg</th>\n",
              "      <td>0.031318</td>\n",
              "      <td>0.972716</td>\n",
              "      <td>0.346648</td>\n",
              "      <td>0.905927</td>\n",
              "      <td>0.855998</td>\n",
              "      <td>0.697539</td>\n",
              "      <td>0.893644</td>\n",
              "      <td>0.930824</td>\n",
              "      <td>1.000000</td>\n",
              "    </tr>\n",
              "  </tbody>\n",
              "</table>\n",
              "</div>\n",
              "      <button class=\"colab-df-convert\" onclick=\"convertToInteractive('df-e42f8f79-6d87-4371-ba9e-b213bf23d4bb')\"\n",
              "              title=\"Convert this dataframe to an interactive table.\"\n",
              "              style=\"display:none;\">\n",
              "        \n",
              "  <svg xmlns=\"http://www.w3.org/2000/svg\" height=\"24px\"viewBox=\"0 0 24 24\"\n",
              "       width=\"24px\">\n",
              "    <path d=\"M0 0h24v24H0V0z\" fill=\"none\"/>\n",
              "    <path d=\"M18.56 5.44l.94 2.06.94-2.06 2.06-.94-2.06-.94-.94-2.06-.94 2.06-2.06.94zm-11 1L8.5 8.5l.94-2.06 2.06-.94-2.06-.94L8.5 2.5l-.94 2.06-2.06.94zm10 10l.94 2.06.94-2.06 2.06-.94-2.06-.94-.94-2.06-.94 2.06-2.06.94z\"/><path d=\"M17.41 7.96l-1.37-1.37c-.4-.4-.92-.59-1.43-.59-.52 0-1.04.2-1.43.59L10.3 9.45l-7.72 7.72c-.78.78-.78 2.05 0 2.83L4 21.41c.39.39.9.59 1.41.59.51 0 1.02-.2 1.41-.59l7.78-7.78 2.81-2.81c.8-.78.8-2.07 0-2.86zM5.41 20L4 18.59l7.72-7.72 1.47 1.35L5.41 20z\"/>\n",
              "  </svg>\n",
              "      </button>\n",
              "      \n",
              "  <style>\n",
              "    .colab-df-container {\n",
              "      display:flex;\n",
              "      flex-wrap:wrap;\n",
              "      gap: 12px;\n",
              "    }\n",
              "\n",
              "    .colab-df-convert {\n",
              "      background-color: #E8F0FE;\n",
              "      border: none;\n",
              "      border-radius: 50%;\n",
              "      cursor: pointer;\n",
              "      display: none;\n",
              "      fill: #1967D2;\n",
              "      height: 32px;\n",
              "      padding: 0 0 0 0;\n",
              "      width: 32px;\n",
              "    }\n",
              "\n",
              "    .colab-df-convert:hover {\n",
              "      background-color: #E2EBFA;\n",
              "      box-shadow: 0px 1px 2px rgba(60, 64, 67, 0.3), 0px 1px 3px 1px rgba(60, 64, 67, 0.15);\n",
              "      fill: #174EA6;\n",
              "    }\n",
              "\n",
              "    [theme=dark] .colab-df-convert {\n",
              "      background-color: #3B4455;\n",
              "      fill: #D2E3FC;\n",
              "    }\n",
              "\n",
              "    [theme=dark] .colab-df-convert:hover {\n",
              "      background-color: #434B5C;\n",
              "      box-shadow: 0px 1px 3px 1px rgba(0, 0, 0, 0.15);\n",
              "      filter: drop-shadow(0px 1px 2px rgba(0, 0, 0, 0.3));\n",
              "      fill: #FFFFFF;\n",
              "    }\n",
              "  </style>\n",
              "\n",
              "      <script>\n",
              "        const buttonEl =\n",
              "          document.querySelector('#df-e42f8f79-6d87-4371-ba9e-b213bf23d4bb button.colab-df-convert');\n",
              "        buttonEl.style.display =\n",
              "          google.colab.kernel.accessAllowed ? 'block' : 'none';\n",
              "\n",
              "        async function convertToInteractive(key) {\n",
              "          const element = document.querySelector('#df-e42f8f79-6d87-4371-ba9e-b213bf23d4bb');\n",
              "          const dataTable =\n",
              "            await google.colab.kernel.invokeFunction('convertToInteractive',\n",
              "                                                     [key], {});\n",
              "          if (!dataTable) return;\n",
              "\n",
              "          const docLinkHtml = 'Like what you see? Visit the ' +\n",
              "            '<a target=\"_blank\" href=https://colab.research.google.com/notebooks/data_table.ipynb>data table notebook</a>'\n",
              "            + ' to learn more about interactive tables.';\n",
              "          element.innerHTML = '';\n",
              "          dataTable['output_type'] = 'display_data';\n",
              "          await google.colab.output.renderOutput(dataTable, element);\n",
              "          const docLink = document.createElement('div');\n",
              "          docLink.innerHTML = docLinkHtml;\n",
              "          element.appendChild(docLink);\n",
              "        }\n",
              "      </script>\n",
              "    </div>\n",
              "  </div>\n",
              "  "
            ]
          },
          "metadata": {}
        },
        {
          "output_type": "stream",
          "name": "stderr",
          "text": [
            "<ipython-input-34-24c8895c365d>:7: DeprecationWarning: `np.bool` is a deprecated alias for the builtin `bool`. To silence this warning, use `bool` by itself. Doing this will not modify any behavior and is safe. If you specifically wanted the numpy scalar type, use `np.bool_` here.\n",
            "Deprecated in NumPy 1.20; for more details and guidance: https://numpy.org/devdocs/release/1.20.0-notes.html#deprecations\n",
            "  mask = np.zeros_like(corr, dtype=np.bool)\n"
          ]
        },
        {
          "output_type": "execute_result",
          "data": {
            "text/plain": [
              "<Axes: >"
            ]
          },
          "metadata": {},
          "execution_count": 34
        },
        {
          "output_type": "display_data",
          "data": {
            "text/plain": [
              "<Figure size 1100x900 with 2 Axes>"
            ],
            "image/png": "[encoded data removed]"
          },
          "metadata": {}
        }
      ]
    }
  ]
}