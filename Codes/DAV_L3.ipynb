{
  "nbformat": 4,
  "nbformat_minor": 0,
  "metadata": {
    "colab": {
      "provenance": []
    },
    "kernelspec": {
      "name": "python3",
      "display_name": "Python 3"
    },
    "language_info": {
      "name": "python"
    }
  },
  "cells": [
    {
      "cell_type": "markdown",
      "source": [
        "# **DAV LEVEL 3**"
      ],
      "metadata": {
        "id": "3H9i5HsuXB9v"
      }
    },
    {
      "cell_type": "code",
      "execution_count": null,
      "metadata": {
        "id": "cofcbHa2W7EC"
      },
      "outputs": [],
      "source": [
        "import pandas as pd\n",
        "import numpy as np\n",
        "import seaborn as sns\n",
        "import matplotlib.pyplot as plt\n",
        "from sklearn import metrics"
      ]
    },
    {
      "cell_type": "code",
      "source": [
        "from google.colab import drive\n",
        "drive.mount('/content/drive')"
      ],
      "metadata": {
        "colab": {
          "base_uri": "https://localhost:8080/"
        },
        "id": "beuBjgGdXTCr",
        "outputId": "deb84cf9-b221-4dc8-9214-07888867391c"
      },
      "execution_count": null,
      "outputs": [
        {
          "output_type": "stream",
          "name": "stdout",
          "text": [
            "Mounted at /content/drive\n"
          ]
        }
      ]
    },
    {
      "cell_type": "code",
      "source": [
        "# load GHG Emission data\n",
        "ghgEmission = \"drive/My Drive/Study/DAV/co2_data.csv\"\n",
        "northHemIce = \"drive/My Drive/Study/DAV/north_hemisphere_ice.xlsx\"\n",
        "southHemIce = \"drive/My Drive/Study/DAV/south_hemishpere_ice.xlsx\"\n",
        "df_ghg = pd.read_csv(ghgEmission)\n",
        "df_northHemIce = pd.read_excel(northHemIce)\n",
        "df_southHemIce = pd.read_excel(southHemIce)\n",
        "# display(df_ghg)\n",
        "\n",
        "# Set max_rows and max_columns options\n",
        "pd.set_option('display.max_rows', None)\n",
        "pd.set_option('display.max_columns', None)"
      ],
      "metadata": {
        "id": "YL1IX7kAXZ4j"
      },
      "execution_count": null,
      "outputs": []
    },
    {
      "cell_type": "code",
      "source": [
        "# Select a range of years (1990 to 2021)\n",
        "start_year = 1990\n",
        "end_year = 2021\n",
        "selected_rows = df_ghg.loc[(df_ghg['year'] >= start_year) & (df_ghg['year'] <= end_year)]"
      ],
      "metadata": {
        "id": "l11IgIGwXywd"
      },
      "execution_count": null,
      "outputs": []
    },
    {
      "cell_type": "code",
      "source": [
        "#value to be removed as country\n",
        "values_to_remove = ['Africa (GCP)','Aland Islands','American Samoa','Asia (GCP)','Asia (excl. China and India)', 'Central America (GCP)','Europe (GCP)', 'European Union (27) (GCP)', 'Falkland Islands', 'Guernsey', 'Isle of Man', 'Jersey',\n",
        "'Middle East (GCP)', 'Netherlands Antilles', 'Non-OECD (GCP)', 'OECD (GCP)', 'Oceania (GCP)','Puerto Rico','Saint Martin (French part)', 'South America (GCP)','Svalbard and Jan Mayen','United States Virgin Islands','Western Sahara','World','Europe' 'Europe (excl. EU-27)',\n",
        " 'Europe (excl. EU-28)',\n",
        " 'European Union (27)',\n",
        " 'European Union (28)',\n",
        " 'North America',\n",
        " 'North America (GCP)',\n",
        " 'North America (excl. USA)',\n",
        " 'South America',\n",
        " 'Upper-middle-income countries',\n",
        " 'International transport',\n",
        " 'High-income countries',\n",
        " 'Asia',\n",
        " 'Low-income countries',\n",
        " 'Lower-middle-income countries',\n",
        " 'Africa',\n",
        " 'Europe',\n",
        " 'Europe (excl. EU-27)',]\n",
        "\n",
        "# Filter the DataFrame to remove rows that match the values in the array\n",
        "df_filteredCountry = selected_rows[~selected_rows['country'].isin(values_to_remove)]\n",
        "\n",
        "# Write the filtered DataFrame back to the CSV file\n",
        "# display(df_filteredCountry)\n",
        "# df_filteredCountry.to_csv('newData.csv', index=False)"
      ],
      "metadata": {
        "id": "xHu-L2OiX1wu"
      },
      "execution_count": null,
      "outputs": []
    },
    {
      "cell_type": "code",
      "source": [
        "# Define columns to keep\n",
        "columns_to_keep = ['country', 'year','population','cement_co2','cement_co2_per_capita','co2','co2_per_capita','coal_co2','coal_co2_per_capita','flaring_co2','flaring_co2_per_capita','gas_co2','gas_co2_per_capita','land_use_change_co2','land_use_change_co2_per_capita','methane','methane_per_capita','nitrous_oxide','nitrous_oxide_per_capita','oil_co2','oil_co2_per_capita','total_ghg']\n",
        "\n",
        "# Keep only specified columns in the DataFrame\n",
        "df_final = df_filteredCountry[columns_to_keep]\n",
        "\n",
        "# display(df_final)"
      ],
      "metadata": {
        "id": "ETsOPVMtX4vF"
      },
      "execution_count": null,
      "outputs": []
    },
    {
      "cell_type": "code",
      "source": [
        "missing_percentages = df_final.isnull().sum() / len(df_final) * 100\n",
        "display(missing_percentages)"
      ],
      "metadata": {
        "colab": {
          "base_uri": "https://localhost:8080/",
          "height": 436
        },
        "id": "GEp_XcpaX6cO",
        "outputId": "706a4fec-42d3-4b9b-de68-9b2cead7c51e"
      },
      "execution_count": null,
      "outputs": [
        {
          "output_type": "display_data",
          "data": {
            "text/plain": [
              "country                            0.000000\n",
              "year                               0.000000\n",
              "population                         0.269848\n",
              "cement_co2                         2.698480\n",
              "cement_co2_per_capita              2.968328\n",
              "co2                                0.255646\n",
              "co2_per_capita                     0.525494\n",
              "coal_co2                           0.298253\n",
              "coal_co2_per_capita                0.568101\n",
              "flaring_co2                        0.298253\n",
              "flaring_co2_per_capita             0.568101\n",
              "gas_co2                            0.298253\n",
              "gas_co2_per_capita                 0.568101\n",
              "land_use_change_co2                8.649340\n",
              "land_use_change_co2_per_capita     8.649340\n",
              "methane                           17.341287\n",
              "methane_per_capita                17.341287\n",
              "nitrous_oxide                     17.341287\n",
              "nitrous_oxide_per_capita          17.341287\n",
              "oil_co2                            0.298253\n",
              "oil_co2_per_capita                 0.568101\n",
              "total_ghg                         17.355489\n",
              "dtype: float64"
            ]
          },
          "metadata": {}
        }
      ]
    },
    {
      "cell_type": "code",
      "source": [
        "df_greeenHouseGas = df_final.copy()\n",
        "\n",
        "# #Total use of GHG in a year\n",
        "# df_greeenHouseGas['total_ghg'] = df_greeenHouseGas['co2'] + df_greeenHouseGas['methane'] + df_greeenHouseGas['nitrous_oxide']\n",
        "\n",
        "column_name = 'country'\n",
        "num_unique_country = df_greeenHouseGas[column_name].unique()\n",
        "num_unique_values_count = df_greeenHouseGas[column_name].nunique()\n",
        "\n",
        "unique_values_country_list = num_unique_country.tolist()\n",
        "\n",
        "# Print the result\n",
        "# print(f'The number of unique values in {column_name} is {num_unique_values_count}.')\n",
        "# display(unique_values_list)"
      ],
      "metadata": {
        "id": "PoQfcMmWX8uW"
      },
      "execution_count": null,
      "outputs": []
    },
    {
      "cell_type": "code",
      "source": [
        "#Mean according to country for imputation of data\n",
        "mean_accor_country = {}\n",
        "\n",
        "for country in unique_values_country_list:\n",
        "  countryName = country\n",
        "  selecte_country_rows = df_greeenHouseGas.loc[(df_greeenHouseGas['country'] == countryName)]\n",
        "  # display(selecte_country_rows)\n",
        "  mean_accor_year = {}\n",
        "  for column_name in selecte_country_rows.columns:\n",
        "    if selecte_country_rows[column_name].dtype != object:\n",
        "        mean = selecte_country_rows[column_name].mean()\n",
        "        mean_accor_year[column_name] = mean\n",
        "  \n",
        "  mean_accor_country[country] = mean_accor_year\n"
      ],
      "metadata": {
        "id": "vqEkGQbbYAUF"
      },
      "execution_count": null,
      "outputs": []
    },
    {
      "cell_type": "code",
      "source": [
        "display(mean_accor_country['Afghanistan'])"
      ],
      "metadata": {
        "colab": {
          "base_uri": "https://localhost:8080/",
          "height": 400
        },
        "id": "fJR4MCbMYCXO",
        "outputId": "fd1e9276-c345-40af-85eb-3fb8046fad64"
      },
      "execution_count": null,
      "outputs": [
        {
          "output_type": "display_data",
          "data": {
            "text/plain": [
              "{'year': 2005.5,\n",
              " 'population': 24929732.28125,\n",
              " 'cement_co2': 0.032093750000000004,\n",
              " 'cement_co2_per_capita': 0.0015,\n",
              " 'co2': 5.0441875,\n",
              " 'co2_per_capita': 0.1759375,\n",
              " 'coal_co2': 1.45146875,\n",
              " 'coal_co2_per_capita': 0.04478125,\n",
              " 'flaring_co2': 0.0085,\n",
              " 'flaring_co2_per_capita': 0.0005,\n",
              " 'gas_co2': 0.30800000000000005,\n",
              " 'gas_co2_per_capita': 0.01471875,\n",
              " 'land_use_change_co2': 0.632125,\n",
              " 'land_use_change_co2_per_capita': 0.020968750000000005,\n",
              " 'methane': 11.642333333333335,\n",
              " 'methane_per_capita': 0.4971,\n",
              " 'nitrous_oxide': 3.8856666666666664,\n",
              " 'nitrous_oxide_per_capita': 0.1721,\n",
              " 'oil_co2': 3.2443125000000004,\n",
              " 'oil_co2_per_capita': 0.11434375000000001,\n",
              " 'total_ghg': 18.11466666666667}"
            ]
          },
          "metadata": {}
        }
      ]
    },
    {
      "cell_type": "code",
      "source": [
        "# Loop through the rows and columns and replace null values with country name\n",
        "for i, row in df_greeenHouseGas.iterrows():\n",
        "    country = row['country']  # Assume that the country name is in the 'Country' column\n",
        "    for column_name in df_greeenHouseGas.columns:\n",
        "        if pd.isnull(row[column_name]):\n",
        "            replacement_value = mean_accor_country[country][column_name];\n",
        "            # print(replacement_value)\n",
        "            if np.isnan(replacement_value) :\n",
        "              df_greeenHouseGas.at[i, column_name] = 0.0\n",
        "            else:\n",
        "              df_greeenHouseGas.at[i, column_name] = mean_accor_country[country][column_name]\n",
        "\n",
        "missing_percentages = df_greeenHouseGas.isna().sum() \n",
        "# display(missing_percentages)"
      ],
      "metadata": {
        "id": "4hDGC2N7YFYG"
      },
      "execution_count": null,
      "outputs": []
    },
    {
      "cell_type": "code",
      "source": [
        "#check\n",
        "afgan = df_greeenHouseGas.loc[(df_greeenHouseGas['year'] == 2020) & (df_greeenHouseGas['country'] == 'Afghanistan')]\n",
        "display(afgan)\n",
        "# null_rows.groupby('country').apply(display)\n",
        "# gb = null_rows.groupby(\"country\")\n",
        "# print(gb.count())\n",
        "# null_rows.describe()"
      ],
      "metadata": {
        "colab": {
          "base_uri": "https://localhost:8080/",
          "height": 145
        },
        "id": "feDMcS8LYJMN",
        "outputId": "310711cf-b210-47ef-c30e-2f7f233e93c8"
      },
      "execution_count": null,
      "outputs": [
        {
          "output_type": "display_data",
          "data": {
            "text/plain": [
              "         country  year  population  cement_co2  cement_co2_per_capita     co2  \\\n",
              "170  Afghanistan  2020  38972236.0       0.061                  0.002  11.682   \n",
              "\n",
              "     co2_per_capita  coal_co2  coal_co2_per_capita  flaring_co2  \\\n",
              "170             0.3      4.15                0.106          0.0   \n",
              "\n",
              "     flaring_co2_per_capita  gas_co2  gas_co2_per_capita  land_use_change_co2  \\\n",
              "170                     0.0    0.251               0.006                 0.33   \n",
              "\n",
              "     land_use_change_co2_per_capita    methane  methane_per_capita  \\\n",
              "170                           0.008  11.642333              0.4971   \n",
              "\n",
              "     nitrous_oxide  nitrous_oxide_per_capita  oil_co2  oil_co2_per_capita  \\\n",
              "170       3.885667                    0.1721     7.22               0.185   \n",
              "\n",
              "     total_ghg  \n",
              "170  18.114667  "
            ],
            "text/html": [
              "\n",
              "  <div id=\"df-8c67212c-2be3-4025-90db-77c318fb0f65\">\n",
              "    <div class=\"colab-df-container\">\n",
              "      <div>\n",
              "<style scoped>\n",
              "    .dataframe tbody tr th:only-of-type {\n",
              "        vertical-align: middle;\n",
              "    }\n",
              "\n",
              "    .dataframe tbody tr th {\n",
              "        vertical-align: top;\n",
              "    }\n",
              "\n",
              "    .dataframe thead th {\n",
              "        text-align: right;\n",
              "    }\n",
              "</style>\n",
              "<table border=\"1\" class=\"dataframe\">\n",
              "  <thead>\n",
              "    <tr style=\"text-align: right;\">\n",
              "      <th></th>\n",
              "      <th>country</th>\n",
              "      <th>year</th>\n",
              "      <th>population</th>\n",
              "      <th>cement_co2</th>\n",
              "      <th>cement_co2_per_capita</th>\n",
              "      <th>co2</th>\n",
              "      <th>co2_per_capita</th>\n",
              "      <th>coal_co2</th>\n",
              "      <th>coal_co2_per_capita</th>\n",
              "      <th>flaring_co2</th>\n",
              "      <th>flaring_co2_per_capita</th>\n",
              "      <th>gas_co2</th>\n",
              "      <th>gas_co2_per_capita</th>\n",
              "      <th>land_use_change_co2</th>\n",
              "      <th>land_use_change_co2_per_capita</th>\n",
              "      <th>methane</th>\n",
              "      <th>methane_per_capita</th>\n",
              "      <th>nitrous_oxide</th>\n",
              "      <th>nitrous_oxide_per_capita</th>\n",
              "      <th>oil_co2</th>\n",
              "      <th>oil_co2_per_capita</th>\n",
              "      <th>total_ghg</th>\n",
              "    </tr>\n",
              "  </thead>\n",
              "  <tbody>\n",
              "    <tr>\n",
              "      <th>170</th>\n",
              "      <td>Afghanistan</td>\n",
              "      <td>2020</td>\n",
              "      <td>38972236.0</td>\n",
              "      <td>0.061</td>\n",
              "      <td>0.002</td>\n",
              "      <td>11.682</td>\n",
              "      <td>0.3</td>\n",
              "      <td>4.15</td>\n",
              "      <td>0.106</td>\n",
              "      <td>0.0</td>\n",
              "      <td>0.0</td>\n",
              "      <td>0.251</td>\n",
              "      <td>0.006</td>\n",
              "      <td>0.33</td>\n",
              "      <td>0.008</td>\n",
              "      <td>11.642333</td>\n",
              "      <td>0.4971</td>\n",
              "      <td>3.885667</td>\n",
              "      <td>0.1721</td>\n",
              "      <td>7.22</td>\n",
              "      <td>0.185</td>\n",
              "      <td>18.114667</td>\n",
              "    </tr>\n",
              "  </tbody>\n",
              "</table>\n",
              "</div>\n",
              "      <button class=\"colab-df-convert\" onclick=\"convertToInteractive('df-8c67212c-2be3-4025-90db-77c318fb0f65')\"\n",
              "              title=\"Convert this dataframe to an interactive table.\"\n",
              "              style=\"display:none;\">\n",
              "        \n",
              "  <svg xmlns=\"http://www.w3.org/2000/svg\" height=\"24px\"viewBox=\"0 0 24 24\"\n",
              "       width=\"24px\">\n",
              "    <path d=\"M0 0h24v24H0V0z\" fill=\"none\"/>\n",
              "    <path d=\"M18.56 5.44l.94 2.06.94-2.06 2.06-.94-2.06-.94-.94-2.06-.94 2.06-2.06.94zm-11 1L8.5 8.5l.94-2.06 2.06-.94-2.06-.94L8.5 2.5l-.94 2.06-2.06.94zm10 10l.94 2.06.94-2.06 2.06-.94-2.06-.94-.94-2.06-.94 2.06-2.06.94z\"/><path d=\"M17.41 7.96l-1.37-1.37c-.4-.4-.92-.59-1.43-.59-.52 0-1.04.2-1.43.59L10.3 9.45l-7.72 7.72c-.78.78-.78 2.05 0 2.83L4 21.41c.39.39.9.59 1.41.59.51 0 1.02-.2 1.41-.59l7.78-7.78 2.81-2.81c.8-.78.8-2.07 0-2.86zM5.41 20L4 18.59l7.72-7.72 1.47 1.35L5.41 20z\"/>\n",
              "  </svg>\n",
              "      </button>\n",
              "      \n",
              "  <style>\n",
              "    .colab-df-container {\n",
              "      display:flex;\n",
              "      flex-wrap:wrap;\n",
              "      gap: 12px;\n",
              "    }\n",
              "\n",
              "    .colab-df-convert {\n",
              "      background-color: #E8F0FE;\n",
              "      border: none;\n",
              "      border-radius: 50%;\n",
              "      cursor: pointer;\n",
              "      display: none;\n",
              "      fill: #1967D2;\n",
              "      height: 32px;\n",
              "      padding: 0 0 0 0;\n",
              "      width: 32px;\n",
              "    }\n",
              "\n",
              "    .colab-df-convert:hover {\n",
              "      background-color: #E2EBFA;\n",
              "      box-shadow: 0px 1px 2px rgba(60, 64, 67, 0.3), 0px 1px 3px 1px rgba(60, 64, 67, 0.15);\n",
              "      fill: #174EA6;\n",
              "    }\n",
              "\n",
              "    [theme=dark] .colab-df-convert {\n",
              "      background-color: #3B4455;\n",
              "      fill: #D2E3FC;\n",
              "    }\n",
              "\n",
              "    [theme=dark] .colab-df-convert:hover {\n",
              "      background-color: #434B5C;\n",
              "      box-shadow: 0px 1px 3px 1px rgba(0, 0, 0, 0.15);\n",
              "      filter: drop-shadow(0px 1px 2px rgba(0, 0, 0, 0.3));\n",
              "      fill: #FFFFFF;\n",
              "    }\n",
              "  </style>\n",
              "\n",
              "      <script>\n",
              "        const buttonEl =\n",
              "          document.querySelector('#df-8c67212c-2be3-4025-90db-77c318fb0f65 button.colab-df-convert');\n",
              "        buttonEl.style.display =\n",
              "          google.colab.kernel.accessAllowed ? 'block' : 'none';\n",
              "\n",
              "        async function convertToInteractive(key) {\n",
              "          const element = document.querySelector('#df-8c67212c-2be3-4025-90db-77c318fb0f65');\n",
              "          const dataTable =\n",
              "            await google.colab.kernel.invokeFunction('convertToInteractive',\n",
              "                                                     [key], {});\n",
              "          if (!dataTable) return;\n",
              "\n",
              "          const docLinkHtml = 'Like what you see? Visit the ' +\n",
              "            '<a target=\"_blank\" href=https://colab.research.google.com/notebooks/data_table.ipynb>data table notebook</a>'\n",
              "            + ' to learn more about interactive tables.';\n",
              "          element.innerHTML = '';\n",
              "          dataTable['output_type'] = 'display_data';\n",
              "          await google.colab.output.renderOutput(dataTable, element);\n",
              "          const docLink = document.createElement('div');\n",
              "          docLink.innerHTML = docLinkHtml;\n",
              "          element.appendChild(docLink);\n",
              "        }\n",
              "      </script>\n",
              "    </div>\n",
              "  </div>\n",
              "  "
            ]
          },
          "metadata": {}
        }
      ]
    },
    {
      "cell_type": "code",
      "source": [
        "#Mean according to country\n",
        "\n",
        "mean_accor_country_Array = []\n",
        "\n",
        "for country in unique_values_country_list:\n",
        "  countryName = country\n",
        "  selecte_country_rows = df_greeenHouseGas.loc[(df_greeenHouseGas['country'] == countryName)]\n",
        "  # display(selecte_country_rows)\n",
        "  mean_accor_year_Obj = {}\n",
        "  for column_name in selecte_country_rows.columns:\n",
        "    if selecte_country_rows[column_name].dtype != object:\n",
        "        mean = selecte_country_rows[column_name].mean()\n",
        "        mean_accor_year_Obj[column_name] = mean\n",
        "    mean_accor_year_Obj['country'] = countryName\n",
        "\n",
        "  mean_accor_country_Array.append(mean_accor_year_Obj)\n",
        "\n",
        "  # mean_accor_country[country] = mean_accor_year"
      ],
      "metadata": {
        "id": "Tkn-nQTQYLnF"
      },
      "execution_count": null,
      "outputs": []
    },
    {
      "cell_type": "code",
      "source": [
        "for col in df_greeenHouseGas.columns:\n",
        "    print(col)"
      ],
      "metadata": {
        "colab": {
          "base_uri": "https://localhost:8080/"
        },
        "id": "Sg-e_dxeaRsD",
        "outputId": "0e1892bf-38b3-447d-f543-bbd3086561bb"
      },
      "execution_count": null,
      "outputs": [
        {
          "output_type": "stream",
          "name": "stdout",
          "text": [
            "country\n",
            "year\n",
            "population\n",
            "cement_co2\n",
            "cement_co2_per_capita\n",
            "co2\n",
            "co2_per_capita\n",
            "coal_co2\n",
            "coal_co2_per_capita\n",
            "flaring_co2\n",
            "flaring_co2_per_capita\n",
            "gas_co2\n",
            "gas_co2_per_capita\n",
            "land_use_change_co2\n",
            "land_use_change_co2_per_capita\n",
            "methane\n",
            "methane_per_capita\n",
            "nitrous_oxide\n",
            "nitrous_oxide_per_capita\n",
            "oil_co2\n",
            "oil_co2_per_capita\n",
            "total_ghg\n"
          ]
        }
      ]
    },
    {
      "cell_type": "code",
      "source": [
        "df_ghg_with_ice = df_greeenHouseGas.copy()"
      ],
      "metadata": {
        "id": "jLFcvFRIbTKx"
      },
      "execution_count": null,
      "outputs": []
    },
    {
      "cell_type": "code",
      "source": [
        "#Ice area in 2 hemispheres\n",
        "\n",
        "df_totalIceArea = pd.concat([df_northHemIce['year'],df_northHemIce['Annual'].rename(\"north_hemisphere_ice\")  , df_southHemIce['Annual'].rename(\"south_hemisphere_ice\")], axis=1)\n",
        "df_totalIceArea['total_ice'] = df_northHemIce['Annual']+df_southHemIce['Annual']\n",
        "\n",
        "# display(df_totalIceArea) \n",
        "# discriptiveAnalysisOfIceArea = df_totalIceArea[['north_hemisphere_ice','south_hemisphere_ice','total_ice']].describe()\n",
        "\n",
        "# display(discriptiveAnalysisOfIceArea) "
      ],
      "metadata": {
        "id": "EhIYNXidm253"
      },
      "execution_count": null,
      "outputs": []
    },
    {
      "cell_type": "code",
      "source": [
        "#Merging of Two Dataset\n",
        "# create a new column with default value of 0\n",
        "df_ghg_with_ice['iceArea'] = 0\n",
        "\n",
        "# df_with_ice.reset_index(drop=True)\n",
        "valueOfIceArea = df_totalIceArea.loc[df_totalIceArea['year'] == 1994, 'total_ice']\n",
        "n=list(valueOfIceArea.keys())[0]\n",
        "print(n)\n",
        "# display(df_with_ice.loc[(df_with_ice['year'] == 2020) & (df_with_ice['country'] == 'Afghanistan')])\n",
        "#loop through each row in the DataFrame\n",
        "\n",
        "for index, row in df_ghg_with_ice.iterrows():\n",
        "    year = row['year']\n",
        "    # print(year)\n",
        "    valueOfIceArea = df_totalIceArea.loc[df_totalIceArea['year'] == year, 'total_ice']\n",
        "    key = list(valueOfIceArea.keys())[0]\n",
        "    value = valueOfIceArea[key]\n",
        "\n",
        "\n",
        "    df_ghg_with_ice.at[index, 'iceArea'] = value\n",
        " "
      ],
      "metadata": {
        "id": "aA7xHIklb2bp",
        "colab": {
          "base_uri": "https://localhost:8080/"
        },
        "outputId": "d6159043-e56e-4997-9c58-9c3dee3b0e66"
      },
      "execution_count": null,
      "outputs": [
        {
          "output_type": "stream",
          "name": "stdout",
          "text": [
            "4\n"
          ]
        }
      ]
    },
    {
      "cell_type": "code",
      "source": [
        "afgan = df_ghg_with_ice.loc[(df_ghg_with_ice['country'] == 'Afghanistan')]\n",
        "# display(afgan)"
      ],
      "metadata": {
        "id": "9ItT8fauqW7U"
      },
      "execution_count": null,
      "outputs": []
    },
    {
      "cell_type": "code",
      "source": [
        "# # Drop columns where the value is zero\n",
        "# df_ghg_with_ice = df_ghg_with_ice.loc[:, (df_ghg_with_ice != 0).any(axis=0)]\n",
        "# missing_percentages = df_ghg_with_ice.isnull().sum() / len(df_ghg_with_ice) * 100\n",
        "# display(missing_percentages)"
      ],
      "metadata": {
        "id": "v1SiAY37s41x"
      },
      "execution_count": null,
      "outputs": []
    },
    {
      "cell_type": "code",
      "source": [
        "df_ghg_with_ice=df_ghg_with_ice[['country','year','co2','land_use_change_co2','total_ghg','iceArea','methane','nitrous_oxide']]"
      ],
      "metadata": {
        "id": "X2EZ2544ecE1"
      },
      "execution_count": null,
      "outputs": []
    },
    {
      "cell_type": "code",
      "source": [
        "df_ghg_with_ice = df_ghg_with_ice[(df_ghg_with_ice != 0).all(1)]\n",
        "if (df_ghg_with_ice == 0).any().any():\n",
        "    print(\"There is at least one zero value in the dataframe\")\n",
        "else:\n",
        "    print(\"There are no zero values in the dataframe\")\n",
        "\n",
        "num_rows = df_ghg_with_ice.shape[0]\n",
        "print(\"Number of rows: \",num_rows)"
      ],
      "metadata": {
        "colab": {
          "base_uri": "https://localhost:8080/"
        },
        "id": "MZ0IJAX0c-8r",
        "outputId": "e03526cb-be87-4441-bb94-5e9b85a6ec9d"
      },
      "execution_count": null,
      "outputs": [
        {
          "output_type": "stream",
          "name": "stdout",
          "text": [
            "There are no zero values in the dataframe\n",
            "Number of rows:  5618\n"
          ]
        }
      ]
    },
    {
      "cell_type": "code",
      "source": [
        "# LEBEL ENCODING THE CONTRY \n",
        "from sklearn import preprocessing\n",
        "le = preprocessing.LabelEncoder()\n",
        "entity = ['country']\n",
        "# for var in entity:\n",
        "#     data[var] = le.fit_transform(data[var])\n",
        "df_ghg_with_ice['country'] = le.fit_transform(df_ghg_with_ice['country'])"
      ],
      "metadata": {
        "id": "EOGLrC_DtE5i"
      },
      "execution_count": null,
      "outputs": []
    },
    {
      "cell_type": "code",
      "source": [
        "sorted_list = df_ghg_with_ice.sort_values('year')\n",
        "\n",
        "# display(sorted_list)"
      ],
      "metadata": {
        "id": "T2_Bl_rPvL71"
      },
      "execution_count": null,
      "outputs": []
    },
    {
      "cell_type": "code",
      "source": [
        "#predict total_ghg with multi-linear regression\n",
        "import statsmodels.api as sm\n",
        "\n",
        "from sklearn.model_selection import train_test_split\n",
        "from sklearn.linear_model import LinearRegression\n",
        "from sklearn import metrics\n",
        "\n",
        "#'country','year','co2','land_use_change_co2','methane','nitrous_oxide'\n",
        "x= sorted_list[['country','year','co2']];\n",
        "y = sorted_list['total_ghg']\n",
        "\n",
        "# print(y)\n",
        "x_train, x_test, y_train, y_test = train_test_split(x, y, test_size = .2)\n",
        "\n",
        "\n",
        "lr = LinearRegression()\n",
        "lr.fit(x_train, y_train)\n",
        "\n",
        "y_pred = lr.predict(x_test)\n",
        "\n",
        "print(\"Mean Absolute Error: \", metrics.mean_absolute_error(y_test,y_pred))\n",
        "print(\"Mean Squared Error: \", metrics.mean_squared_error(y_test,y_pred))\n",
        "print(\"Root Mean Squared Error: \", np.sqrt(metrics.mean_squared_error(y_test,y_pred)))\n",
        "\n",
        "print('R squared value: ', metrics.r2_score(y_test,y_pred))\n",
        "\n",
        "#Use statsmodel for model summary \n",
        "x = sm.add_constant(x)\n",
        "model = sm.OLS(y, x).fit() \n",
        "predictions = model.predict(x) \n",
        "print_model = model.summary() \n",
        "print(\"--------------------------------------------------------------\")\n",
        "print(\"prediction of Total Greenhouse gas with multi linear regression \")\n",
        "print(\"--------------------------------------------------------------\")\n",
        "\n",
        "print(print_model)"
      ],
      "metadata": {
        "colab": {
          "base_uri": "https://localhost:8080/"
        },
        "id": "cQKsM9ArfZGr",
        "outputId": "cb5fb84d-ef36-46f5-da6c-623ae6afae09"
      },
      "execution_count": null,
      "outputs": [
        {
          "output_type": "stream",
          "name": "stdout",
          "text": [
            "Mean Absolute Error:  72.64868997506836\n",
            "Mean Squared Error:  50436.16987027302\n",
            "Root Mean Squared Error:  224.5799854623582\n",
            "R squared value:  0.9253808204487377\n",
            "--------------------------------------------------------------\n",
            "prediction of Total Greenhouse gas with multi linear regression \n",
            "--------------------------------------------------------------\n",
            "                            OLS Regression Results                            \n",
            "==============================================================================\n",
            "Dep. Variable:              total_ghg   R-squared:                       0.947\n",
            "Model:                            OLS   Adj. R-squared:                  0.947\n",
            "Method:                 Least Squares   F-statistic:                 3.374e+04\n",
            "Date:                Sun, 07 May 2023   Prob (F-statistic):               0.00\n",
            "Time:                        00:42:22   Log-Likelihood:                -37135.\n",
            "No. Observations:                5618   AIC:                         7.428e+04\n",
            "Df Residuals:                    5614   BIC:                         7.431e+04\n",
            "Df Model:                           3                                         \n",
            "Covariance Type:            nonrobust                                         \n",
            "==============================================================================\n",
            "                 coef    std err          t      P>|t|      [0.025      0.975]\n",
            "------------------------------------------------------------------------------\n",
            "const        596.4152    521.613      1.143      0.253    -426.148    1618.978\n",
            "country       -0.3106      0.046     -6.784      0.000      -0.400      -0.221\n",
            "year          -0.2594      0.260     -0.997      0.319      -0.769       0.251\n",
            "co2            1.0690      0.003    317.938      0.000       1.062       1.076\n",
            "==============================================================================\n",
            "Omnibus:                     5844.959   Durbin-Watson:                   1.998\n",
            "Prob(Omnibus):                  0.000   Jarque-Bera (JB):         13085055.448\n",
            "Skew:                          -3.972   Prob(JB):                         0.00\n",
            "Kurtosis:                     239.296   Cond. No.                     4.38e+05\n",
            "==============================================================================\n",
            "\n",
            "Notes:\n",
            "[1] Standard Errors assume that the covariance matrix of the errors is correctly specified.\n",
            "[2] The condition number is large, 4.38e+05. This might indicate that there are\n",
            "strong multicollinearity or other numerical problems.\n"
          ]
        }
      ]
    },
    {
      "cell_type": "code",
      "source": [
        "#predict total_ghg with multi-linear regression\n",
        "import statsmodels.api as sm\n",
        "\n",
        "from sklearn.model_selection import train_test_split\n",
        "from sklearn.linear_model import LinearRegression\n",
        "from sklearn import metrics\n",
        "\n",
        "#'country','year','co2','land_use_change_co2','methane','nitrous_oxide'\n",
        "x= sorted_list[['country','year','co2','land_use_change_co2']];\n",
        "y = sorted_list['total_ghg']\n",
        "\n",
        "# print(y)\n",
        "x_train, x_test, y_train, y_test = train_test_split(x, y, test_size = .2)\n",
        "\n",
        "\n",
        "lr = LinearRegression()\n",
        "lr.fit(x_train, y_train)\n",
        "\n",
        "y_pred = lr.predict(x_test)\n",
        "\n",
        "print(\"Mean Absolute Error: \", metrics.mean_absolute_error(y_test,y_pred))\n",
        "print(\"Mean Squared Error: \", metrics.mean_squared_error(y_test,y_pred))\n",
        "print(\"Root Mean Squared Error: \", np.sqrt(metrics.mean_squared_error(y_test,y_pred)))\n",
        "\n",
        "print('R squared value: ', metrics.r2_score(y_test,y_pred))\n",
        "\n",
        "#Use statsmodel for model summary \n",
        "x = sm.add_constant(x)\n",
        "model = sm.OLS(y, x).fit() \n",
        "predictions = model.predict(x) \n",
        "print_model = model.summary() \n",
        "print(\"--------------------------------------------------------------\")\n",
        "print(\"prediction of Total Greenhouse gas with multi linear regression \")\n",
        "print(\"--------------------------------------------------------------\")\n",
        "\n",
        "print(print_model)"
      ],
      "metadata": {
        "colab": {
          "base_uri": "https://localhost:8080/"
        },
        "id": "Pcz8fBUltS2R",
        "outputId": "62d63f28-3595-49dc-a3b7-0e79dcf30e55"
      },
      "execution_count": null,
      "outputs": [
        {
          "output_type": "stream",
          "name": "stdout",
          "text": [
            "Mean Absolute Error:  44.50666370805904\n",
            "Mean Squared Error:  8263.781489533229\n",
            "Root Mean Squared Error:  90.90534356974418\n",
            "R squared value:  0.9866127888040715\n",
            "--------------------------------------------------------------\n",
            "prediction of Total Greenhouse gas with multi linear regression \n",
            "--------------------------------------------------------------\n",
            "                            OLS Regression Results                            \n",
            "==============================================================================\n",
            "Dep. Variable:              total_ghg   R-squared:                       0.974\n",
            "Model:                            OLS   Adj. R-squared:                  0.974\n",
            "Method:                 Least Squares   F-statistic:                 5.179e+04\n",
            "Date:                Sun, 07 May 2023   Prob (F-statistic):               0.00\n",
            "Time:                        00:43:17   Log-Likelihood:                -35200.\n",
            "No. Observations:                5618   AIC:                         7.041e+04\n",
            "Df Residuals:                    5613   BIC:                         7.044e+04\n",
            "Df Model:                           4                                         \n",
            "Covariance Type:            nonrobust                                         \n",
            "=======================================================================================\n",
            "                          coef    std err          t      P>|t|      [0.025      0.975]\n",
            "---------------------------------------------------------------------------------------\n",
            "const                 -26.0066    369.727     -0.070      0.944    -750.815     698.802\n",
            "country                -0.0247      0.033     -0.757      0.449      -0.089       0.039\n",
            "year                    0.0259      0.184      0.140      0.888      -0.336       0.387\n",
            "co2                     1.0350      0.002    426.629      0.000       1.030       1.040\n",
            "land_use_change_co2     0.8290      0.011     74.610      0.000       0.807       0.851\n",
            "==============================================================================\n",
            "Omnibus:                    12063.809   Durbin-Watson:                   1.980\n",
            "Prob(Omnibus):                  0.000   Jarque-Bera (JB):        131642995.173\n",
            "Skew:                         -18.493   Prob(JB):                         0.00\n",
            "Kurtosis:                     752.005   Cond. No.                     4.39e+05\n",
            "==============================================================================\n",
            "\n",
            "Notes:\n",
            "[1] Standard Errors assume that the covariance matrix of the errors is correctly specified.\n",
            "[2] The condition number is large, 4.39e+05. This might indicate that there are\n",
            "strong multicollinearity or other numerical problems.\n"
          ]
        }
      ]
    },
    {
      "cell_type": "code",
      "source": [
        "#predict iceArea with linear regression \n",
        "import statsmodels.api as sm\n",
        "\n",
        "from sklearn.model_selection import train_test_split\n",
        "from sklearn.linear_model import LinearRegression\n",
        "from sklearn import metrics\n",
        "\n",
        "#'country','year','co2','land_use_change_co2','methane','nitrous_oxide'\n",
        "x= sorted_list[['country','year','co2','land_use_change_co2']];\n",
        "y = sorted_list['iceArea']\n",
        "\n",
        "# print(y)\n",
        "x_train, x_test, y_train, y_test = train_test_split(x, y, test_size = .2)\n",
        "\n",
        "\n",
        "lr = LinearRegression()\n",
        "lr.fit(x_train, y_train)\n",
        "\n",
        "y_pred = lr.predict(x_test)\n",
        "\n",
        "print(\"Mean Absolute Error:\", metrics.mean_absolute_error(y_test,y_pred))\n",
        "print(\"Mean Squared Error: \", metrics.mean_squared_error(y_test,y_pred))\n",
        "print(\"Root Mean Squared Error: \", np.sqrt(metrics.mean_squared_error(y_test,y_pred)))\n",
        "\n",
        "print('R Squared value: ', metrics.r2_score(y_test,y_pred))\n",
        "\n",
        "#Use statsmodel for model summary \n",
        "x = sm.add_constant(x)\n",
        "model = sm.OLS(y, x).fit() \n",
        "predictions = model.predict(x) \n",
        "print_model = model.summary() \n",
        "print(\"--------------------------------------------------------------\")\n",
        "print(\"prediction of iceArea with multi linear regression \")\n",
        "print(\"--------------------------------------------------------------\")\n",
        "\n",
        "print(print_model)"
      ],
      "metadata": {
        "colab": {
          "base_uri": "https://localhost:8080/"
        },
        "id": "1dWRPDI2nFN0",
        "outputId": "c32620aa-0fd3-453e-ca9c-93f54e672bbe"
      },
      "execution_count": null,
      "outputs": [
        {
          "output_type": "stream",
          "name": "stdout",
          "text": [
            "Mean Absolute Error: 0.4552656628394435\n",
            "Mean Squared Error:  0.3234417678633881\n",
            "Root Mean Squared Error:  0.5687194104858635\n",
            "R Squared value:  0.2965554913481687\n",
            "--------------------------------------------------------------\n",
            "prediction of iceArea with multi linear regression \n",
            "--------------------------------------------------------------\n",
            "                            OLS Regression Results                            \n",
            "==============================================================================\n",
            "Dep. Variable:                iceArea   R-squared:                       0.342\n",
            "Model:                            OLS   Adj. R-squared:                  0.342\n",
            "Method:                 Least Squares   F-statistic:                     729.5\n",
            "Date:                Sun, 07 May 2023   Prob (F-statistic):               0.00\n",
            "Time:                        00:43:58   Log-Likelihood:                -4702.9\n",
            "No. Observations:                5618   AIC:                             9416.\n",
            "Df Residuals:                    5613   BIC:                             9449.\n",
            "Df Model:                           4                                         \n",
            "Covariance Type:            nonrobust                                         \n",
            "=======================================================================================\n",
            "                          coef    std err          t      P>|t|      [0.025      0.975]\n",
            "---------------------------------------------------------------------------------------\n",
            "const                 108.4442      1.623     66.814      0.000     105.262     111.626\n",
            "country              2.712e-05      0.000      0.189      0.850      -0.000       0.000\n",
            "year                   -0.0437      0.001    -53.956      0.000      -0.045      -0.042\n",
            "co2                  -4.95e-07   1.06e-05     -0.046      0.963   -2.14e-05    2.04e-05\n",
            "land_use_change_co2  1.731e-05   4.88e-05      0.355      0.723   -7.83e-05       0.000\n",
            "==============================================================================\n",
            "Omnibus:                      139.700   Durbin-Watson:                   0.006\n",
            "Prob(Omnibus):                  0.000   Jarque-Bera (JB):              148.722\n",
            "Skew:                           0.392   Prob(JB):                     5.07e-33\n",
            "Kurtosis:                       2.861   Cond. No.                     4.39e+05\n",
            "==============================================================================\n",
            "\n",
            "Notes:\n",
            "[1] Standard Errors assume that the covariance matrix of the errors is correctly specified.\n",
            "[2] The condition number is large, 4.39e+05. This might indicate that there are\n",
            "strong multicollinearity or other numerical problems.\n"
          ]
        }
      ]
    },
    {
      "cell_type": "code",
      "source": [
        "#predict iceArea with support vector regressor\n",
        "import statsmodels.api as sm\n",
        "\n",
        "from sklearn.model_selection import train_test_split\n",
        "from sklearn.svm import SVR\n",
        "from sklearn.pipeline import make_pipeline\n",
        "from sklearn.preprocessing import StandardScaler\n",
        "from sklearn import metrics\n",
        "\n",
        "\n",
        "x= sorted_list[['country','year','co2','land_use_change_co2']];\n",
        "y = sorted_list['iceArea']\n",
        "\n",
        "# print(y)\n",
        "x_train, x_test, y_train, y_test = train_test_split(x, y, test_size = .2)\n",
        "\n",
        "\n",
        "lr = make_pipeline(StandardScaler(),SVR(C=1.0,epsilon=.1))\n",
        "lr.fit(x_train, y_train)\n",
        "\n",
        "y_pred = lr.predict(x_test)\n",
        "\n",
        "print(\"Mean Absolute Error: \", metrics.mean_absolute_error(y_test,y_pred))\n",
        "print(\"Mean Squared Error: \", metrics.mean_squared_error(y_test,y_pred))\n",
        "print(\"Root Mean Squared Error: \", np.sqrt(metrics.mean_squared_error(y_test,y_pred)))\n",
        "\n",
        "print('R Squared value: ', metrics.r2_score(y_test,y_pred))\n",
        "\n",
        "#Use statsmodel for model summary \n",
        "x = sm.add_constant(x)\n",
        "model = sm.OLS(y, x).fit() \n",
        "predictions = model.predict(x) \n",
        "print_model = model.summary() \n",
        "print(\"--------------------------------------------------------------\")\n",
        "print(\"prediction of iceArea with support vector regressor\")\n",
        "print(\"--------------------------------------------------------------\")\n",
        "print(print_model)\n"
      ],
      "metadata": {
        "colab": {
          "base_uri": "https://localhost:8080/"
        },
        "id": "mjtxQLca6U3T",
        "outputId": "39143ca6-99c7-4302-fa7f-4055f464aa73"
      },
      "execution_count": null,
      "outputs": [
        {
          "output_type": "stream",
          "name": "stdout",
          "text": [
            "Mean Absolute Error:  0.428165114728458\n",
            "Mean Squared Error:  0.30746907478696706\n",
            "Root Mean Squared Error:  0.554498940293818\n",
            "R Squared value:  0.3724423961050649\n",
            "--------------------------------------------------------------\n",
            "prediction of iceArea with support vector regressor\n",
            "--------------------------------------------------------------\n",
            "                            OLS Regression Results                            \n",
            "==============================================================================\n",
            "Dep. Variable:                iceArea   R-squared:                       0.342\n",
            "Model:                            OLS   Adj. R-squared:                  0.342\n",
            "Method:                 Least Squares   F-statistic:                     729.5\n",
            "Date:                Sun, 07 May 2023   Prob (F-statistic):               0.00\n",
            "Time:                        00:44:36   Log-Likelihood:                -4702.9\n",
            "No. Observations:                5618   AIC:                             9416.\n",
            "Df Residuals:                    5613   BIC:                             9449.\n",
            "Df Model:                           4                                         \n",
            "Covariance Type:            nonrobust                                         \n",
            "=======================================================================================\n",
            "                          coef    std err          t      P>|t|      [0.025      0.975]\n",
            "---------------------------------------------------------------------------------------\n",
            "const                 108.4442      1.623     66.814      0.000     105.262     111.626\n",
            "country              2.712e-05      0.000      0.189      0.850      -0.000       0.000\n",
            "year                   -0.0437      0.001    -53.956      0.000      -0.045      -0.042\n",
            "co2                  -4.95e-07   1.06e-05     -0.046      0.963   -2.14e-05    2.04e-05\n",
            "land_use_change_co2  1.731e-05   4.88e-05      0.355      0.723   -7.83e-05       0.000\n",
            "==============================================================================\n",
            "Omnibus:                      139.700   Durbin-Watson:                   0.006\n",
            "Prob(Omnibus):                  0.000   Jarque-Bera (JB):              148.722\n",
            "Skew:                           0.392   Prob(JB):                     5.07e-33\n",
            "Kurtosis:                       2.861   Cond. No.                     4.39e+05\n",
            "==============================================================================\n",
            "\n",
            "Notes:\n",
            "[1] Standard Errors assume that the covariance matrix of the errors is correctly specified.\n",
            "[2] The condition number is large, 4.39e+05. This might indicate that there are\n",
            "strong multicollinearity or other numerical problems.\n"
          ]
        }
      ]
    },
    {
      "cell_type": "code",
      "source": [
        "#predict total_ghg with support vector regressor\n",
        "import statsmodels.api as sm\n",
        "\n",
        "from sklearn.model_selection import train_test_split\n",
        "from sklearn.svm import SVR\n",
        "from sklearn.pipeline import make_pipeline\n",
        "from sklearn.preprocessing import StandardScaler\n",
        "from sklearn import metrics\n",
        "\n",
        "\n",
        "x= sorted_list[['country','year','co2','land_use_change_co2']];\n",
        "y = sorted_list['total_ghg']\n",
        "\n",
        "# print(y)\n",
        "x_train, x_test, y_train, y_test = train_test_split(x, y, test_size = .2)\n",
        "\n",
        "\n",
        "lr = make_pipeline(StandardScaler(),SVR(C=1.0,epsilon=.1))\n",
        "lr.fit(x_train, y_train)\n",
        "\n",
        "y_pred = lr.predict(x_test)\n",
        "print(\"prediction of total ghg with support vector regressor\")\n",
        "print(\"Mean Absolute Error: \", metrics.mean_absolute_error(y_test,y_pred))\n",
        "print(\"Mean Squared Error\", metrics.mean_squared_error(y_test,y_pred))\n",
        "print(\"Root Mean Squared Error\", np.sqrt(metrics.mean_squared_error(y_test,y_pred)))\n",
        "\n",
        "print('R Squared value', metrics.r2_score(y_test,y_pred))\n",
        "\n",
        "#Use statsmodel for model summary \n",
        "# x = sm.add_constant(x)\n",
        "# model = sm.OLS(y, x).fit() \n",
        "# predictions = model.predict(x) \n",
        "# print_model = model.summary() \n",
        "# print(\"--------------------------------------------------------------\")\n",
        "# print(\"prediction of total ghg with support vector regressor\")\n",
        "# print(\"--------------------------------------------------------------\")\n",
        "# print(print_model)\n"
      ],
      "metadata": {
        "colab": {
          "base_uri": "https://localhost:8080/"
        },
        "id": "00Bir5Rj7XEA",
        "outputId": "5e4d1898-5af1-4942-a69b-3e2ab716d4b0"
      },
      "execution_count": null,
      "outputs": [
        {
          "output_type": "stream",
          "name": "stdout",
          "text": [
            "prediction of total ghg with support vector regressor\n",
            "Mean Absolute Error:  196.42774352936758\n",
            "Mean Squared Error 763586.5965802564\n",
            "Root Mean Squared Error 873.8344217185864\n",
            "R Squared value 0.004627577758782309\n"
          ]
        }
      ]
    },
    {
      "cell_type": "code",
      "source": [
        "#predict total_ghg with random forest regression\n",
        "from sklearn.ensemble import RandomForestRegressor\n",
        "from sklearn.model_selection import train_test_split\n",
        "from sklearn.metrics import mean_squared_error, r2_score\n",
        "\n",
        "x= sorted_list[['country','year','co2','land_use_change_co2']];\n",
        "y = sorted_list['total_ghg']\n",
        "\n",
        "x_train, x_test, y_train, y_test = train_test_split(x, y, test_size = .2)\n",
        "rf_model = RandomForestRegressor(n_estimators=100, max_depth=5)\n",
        "# Train the model on the training data\n",
        "rf_model.fit(x_train, y_train)\n",
        "\n",
        "# Use the model to predict the output values for the test set\n",
        "y_pred = rf_model.predict(x_test)\n",
        "# Calculate the mean squared error and R^2 score for the predictions\n",
        "mse = mean_squared_error(y_test, y_pred)\n",
        "r2 = r2_score(y_test, y_pred)\n",
        "\n",
        "print(\"Mean Absolute Error: \", metrics.mean_absolute_error(y_test,y_pred))\n",
        "print(\"Mean Squared Error: \", metrics.mean_squared_error(y_test,y_pred))\n",
        "print(\"Root Mean Squared Error: \", np.sqrt(metrics.mean_squared_error(y_test,y_pred)))\n",
        "\n",
        "print('R Squared value', metrics.r2_score(y_test,y_pred))\n",
        "\n",
        "# Use statsmodel for model summary \n",
        "x = sm.add_constant(x)\n",
        "model = sm.OLS(y, x).fit() \n",
        "predictions = model.predict(x) \n",
        "print_model = model.summary() \n",
        "print(\"--------------------------------------------------------------\")\n",
        "print(\"prediction of total ghg with random forest regression\")\n",
        "print(\"--------------------------------------------------------------\")\n",
        "print(print_model)"
      ],
      "metadata": {
        "colab": {
          "base_uri": "https://localhost:8080/"
        },
        "id": "lawtGgIyoAvx",
        "outputId": "04c8c662-9ff2-4ce7-9ecd-d996f9c44222"
      },
      "execution_count": null,
      "outputs": [
        {
          "output_type": "stream",
          "name": "stdout",
          "text": [
            "Mean Absolute Error:  43.849227487043926\n",
            "Mean Squared Error:  8836.963702071109\n",
            "Root Mean Squared Error:  94.00512593508456\n",
            "R Squared value 0.9814052411231532\n",
            "--------------------------------------------------------------\n",
            "prediction of total ghg with random forest regression\n",
            "--------------------------------------------------------------\n",
            "                            OLS Regression Results                            \n",
            "==============================================================================\n",
            "Dep. Variable:              total_ghg   R-squared:                       0.974\n",
            "Model:                            OLS   Adj. R-squared:                  0.974\n",
            "Method:                 Least Squares   F-statistic:                 5.179e+04\n",
            "Date:                Sun, 07 May 2023   Prob (F-statistic):               0.00\n",
            "Time:                        00:45:59   Log-Likelihood:                -35200.\n",
            "No. Observations:                5618   AIC:                         7.041e+04\n",
            "Df Residuals:                    5613   BIC:                         7.044e+04\n",
            "Df Model:                           4                                         \n",
            "Covariance Type:            nonrobust                                         \n",
            "=======================================================================================\n",
            "                          coef    std err          t      P>|t|      [0.025      0.975]\n",
            "---------------------------------------------------------------------------------------\n",
            "const                 -26.0066    369.727     -0.070      0.944    -750.815     698.802\n",
            "country                -0.0247      0.033     -0.757      0.449      -0.089       0.039\n",
            "year                    0.0259      0.184      0.140      0.888      -0.336       0.387\n",
            "co2                     1.0350      0.002    426.629      0.000       1.030       1.040\n",
            "land_use_change_co2     0.8290      0.011     74.610      0.000       0.807       0.851\n",
            "==============================================================================\n",
            "Omnibus:                    12063.809   Durbin-Watson:                   1.980\n",
            "Prob(Omnibus):                  0.000   Jarque-Bera (JB):        131642995.173\n",
            "Skew:                         -18.493   Prob(JB):                         0.00\n",
            "Kurtosis:                     752.005   Cond. No.                     4.39e+05\n",
            "==============================================================================\n",
            "\n",
            "Notes:\n",
            "[1] Standard Errors assume that the covariance matrix of the errors is correctly specified.\n",
            "[2] The condition number is large, 4.39e+05. This might indicate that there are\n",
            "strong multicollinearity or other numerical problems.\n"
          ]
        }
      ]
    },
    {
      "cell_type": "code",
      "source": [
        "#predict iceArea with random forest regression\n",
        "\n",
        "from sklearn.ensemble import RandomForestRegressor\n",
        "from sklearn.model_selection import train_test_split\n",
        "from sklearn.metrics import mean_squared_error, r2_score\n",
        "\n",
        "x= sorted_list[['country','year','co2','land_use_change_co2']];\n",
        "y = sorted_list['iceArea']\n",
        "\n",
        "x_train, x_test, y_train, y_test = train_test_split(x, y, test_size = .2)\n",
        "\n",
        "\n",
        "rf_model = RandomForestRegressor(n_estimators=100, max_depth=5)\n",
        "\n",
        "# Train the model on the training data\n",
        "rf_model.fit(x_train, y_train)\n",
        "\n",
        "# Use the model to predict the output values for the test set\n",
        "y_pred = rf_model.predict(x_test)\n",
        "\n",
        "# Calculate the mean squared error and R^2 score for the predictions\n",
        "mse = mean_squared_error(y_test, y_pred)\n",
        "r2 = r2_score(y_test, y_pred)\n",
        "print(\"prediction of ice covered area with random forest regression\")\n",
        "print(\"Mean Absolute Error\", metrics.mean_absolute_error(y_test,y_pred))\n",
        "print(\"Mean Squared Error\", metrics.mean_squared_error(y_test,y_pred))\n",
        "print(\"Root Mean Squared Error\", np.sqrt(metrics.mean_squared_error(y_test,y_pred)))\n",
        "\n",
        "print('R Squared value', metrics.r2_score(y_test,y_pred))\n",
        "\n",
        "# # Use statsmodel for model summary \n",
        "# x = sm.add_constant(x)\n",
        "# model = sm.OLS(y, x).fit() \n",
        "# predictions = model.predict(x) \n",
        "# print_model = model.summary() \n",
        "# print(\"--------------------------------------------------------------\")\n",
        "# print(\"prediction of ice covered area with srandom forest regression\")\n",
        "# print(\"--------------------------------------------------------------\")\n",
        "# print(print_model)"
      ],
      "metadata": {
        "colab": {
          "base_uri": "https://localhost:8080/"
        },
        "id": "if_sGhhJo0GM",
        "outputId": "21f01661-fe6f-4c67-b21b-3e9e4e1978c1"
      },
      "execution_count": null,
      "outputs": [
        {
          "output_type": "stream",
          "name": "stdout",
          "text": [
            "prediction of ice covered area with random forest regression\n",
            "Mean Absolute Error 0.09102105741047313\n",
            "Mean Squared Error 0.017424905141520217\n",
            "Root Mean Squared Error 0.13200342852183886\n",
            "R Squared value 0.9623726833530015\n"
          ]
        }
      ]
    },
    {
      "cell_type": "code",
      "source": [
        "#predict total_ghg with adaptive boosting\n",
        "from sklearn.ensemble import AdaBoostRegressor\n",
        "from sklearn.model_selection import train_test_split\n",
        "from sklearn.metrics import mean_squared_error, r2_score\n",
        "\n",
        "\n",
        "x= sorted_list[['country','year','co2','land_use_change_co2']];\n",
        "y = sorted_list['total_ghg']\n",
        "\n",
        "x_train, x_test, y_train, y_test = train_test_split(x, y, test_size = .2)\n",
        "\n",
        "ada_boost_model = AdaBoostRegressor(n_estimators=100, random_state=42)\n",
        "\n",
        "# Train the model\n",
        "ada_boost_model.fit(x_train, y_train)\n",
        "\n",
        "# Make predictions on the test data\n",
        "y_pred = ada_boost_model.predict(x_test)\n",
        "\n",
        "\n",
        "# Calculate the mean squared error and R^2 score for the predictions\n",
        "mse = mean_squared_error(y_test, y_pred)\n",
        "r2 = r2_score(y_test, y_pred)\n",
        "print(\"prediction of total GHG with adaptive boosting\")\n",
        "print(\"Mean Absolute Error: \", metrics.mean_absolute_error(y_test,y_pred))\n",
        "print(\"Mean Squared Error: \", metrics.mean_squared_error(y_test,y_pred))\n",
        "print(\"Root Mean Squared Error: \", np.sqrt(metrics.mean_squared_error(y_test,y_pred)))\n",
        "\n",
        "print('R Squared value: ', metrics.r2_score(y_test,y_pred))\n",
        "\n"
      ],
      "metadata": {
        "colab": {
          "base_uri": "https://localhost:8080/"
        },
        "id": "lec47gHDpXoM",
        "outputId": "1846c8d9-70fa-4b7f-b588-6151e84343bb"
      },
      "execution_count": null,
      "outputs": [
        {
          "output_type": "stream",
          "name": "stdout",
          "text": [
            "prediction of total GHG with adaptive boosting\n",
            "Mean Absolute Error:  150.10891777515164\n",
            "Mean Squared Error:  29728.232458342358\n",
            "Root Mean Squared Error:  172.41877060906785\n",
            "R Squared value:  0.9512267103250436\n"
          ]
        }
      ]
    },
    {
      "cell_type": "code",
      "source": [
        "#predict iceArea with adaptive boosting\n",
        "from sklearn.ensemble import AdaBoostRegressor\n",
        "from sklearn.model_selection import train_test_split\n",
        "from sklearn.metrics import mean_squared_error, r2_score\n",
        "\n",
        "\n",
        "x= sorted_list[['country','year','co2','land_use_change_co2']];\n",
        "y = sorted_list['iceArea']\n",
        "\n",
        "x_train, x_test, y_train, y_test = train_test_split(x, y, test_size = .2)\n",
        "\n",
        "ada_boost_model = AdaBoostRegressor(n_estimators=100, random_state=42)\n",
        "\n",
        "# Train the model\n",
        "ada_boost_model.fit(x_train, y_train)\n",
        "\n",
        "# Make predictions on the test data\n",
        "y_pred = ada_boost_model.predict(x_test)\n",
        "\n",
        "\n",
        "# Calculate the mean squared error and R^2 score for the predictions\n",
        "mse = mean_squared_error(y_test, y_pred)\n",
        "r2 = r2_score(y_test, y_pred)\n",
        "print(\"prediction of ice covered area with adaptive boosting\")\n",
        "print(\"Mean Absolute Error: \", metrics.mean_absolute_error(y_test,y_pred))\n",
        "print(\"Mean Squared Error: \", metrics.mean_squared_error(y_test,y_pred))\n",
        "print(\"Root Mean Squared Error: \", np.sqrt(metrics.mean_squared_error(y_test,y_pred)))\n",
        "\n",
        "print('R Squared value: ', metrics.r2_score(y_test,y_pred))\n",
        "\n",
        "\n"
      ],
      "metadata": {
        "colab": {
          "base_uri": "https://localhost:8080/"
        },
        "id": "oJbLQG8jq9Kf",
        "outputId": "1412eb71-a1a7-465b-b327-3434c3dde223"
      },
      "execution_count": null,
      "outputs": [
        {
          "output_type": "stream",
          "name": "stdout",
          "text": [
            "prediction of ice covered area with adaptive boosting\n",
            "Mean Absolute Error:  0.20203320854214185\n",
            "Mean Squared Error:  0.08810226394243367\n",
            "Root Mean Squared Error:  0.29682025527654554\n",
            "R Squared value:  0.8094711476065942\n"
          ]
        }
      ]
    },
    {
      "cell_type": "code",
      "source": [
        "#predict total_ghg with MLP\n",
        "from sklearn.neural_network import MLPRegressor\n",
        "from sklearn.model_selection import train_test_split\n",
        "from sklearn.metrics import mean_squared_error, r2_score\n",
        "\n",
        "\n",
        "x= sorted_list[['country','year','co2','land_use_change_co2']];\n",
        "y = sorted_list['total_ghg']\n",
        "\n",
        "x_train, x_test, y_train, y_test = train_test_split(x, y, test_size = .2)\n",
        "\n",
        "# Create MLP regressor model\n",
        "mlp_model = MLPRegressor(hidden_layer_sizes=(10,10), max_iter=1000, alpha=0.01, solver='adam', random_state=42)\n",
        "\n",
        "# Train the model\n",
        "mlp_model.fit(x_train, y_train)\n",
        "\n",
        "y_pred = mlp_model.predict(x_test)\n",
        "\n",
        "# Calculate the mean squared error and R^2 score for the predictions\n",
        "mse = mean_squared_error(y_test, y_pred)\n",
        "r2 = r2_score(y_test, y_pred)\n",
        "print(\"prediction of total ghg with MLP\")\n",
        "print(\"Mean Absolute Error:\", metrics.mean_absolute_error(y_test,y_pred))\n",
        "print(\"Mean Squared Error: \", metrics.mean_squared_error(y_test,y_pred))\n",
        "print(\"Root Mean Squared Error: \", np.sqrt(metrics.mean_squared_error(y_test,y_pred)))\n",
        "\n",
        "print('R Squared value', metrics.r2_score(y_test,y_pred))\n"
      ],
      "metadata": {
        "colab": {
          "base_uri": "https://localhost:8080/"
        },
        "id": "nH9LMluzsI5l",
        "outputId": "81c6dec3-1a51-47c5-ed7c-c77048547f92"
      },
      "execution_count": null,
      "outputs": [
        {
          "output_type": "stream",
          "name": "stdout",
          "text": [
            "prediction of total ghg with MLP\n",
            "Mean Absolute Error: 49.031665433972094\n",
            "Mean Squared Error:  30008.919413567848\n",
            "Root Mean Squared Error:  173.2308269724758\n",
            "R Squared value 0.9668358042387913\n"
          ]
        }
      ]
    },
    {
      "cell_type": "code",
      "source": [
        "#predict iceArea with MLP\n",
        "from sklearn.neural_network import MLPRegressor\n",
        "from sklearn.model_selection import train_test_split\n",
        "from sklearn.metrics import mean_squared_error, r2_score\n",
        "\n",
        "\n",
        "x= sorted_list[['country','year','co2','land_use_change_co2']];\n",
        "y = sorted_list['iceArea']\n",
        "\n",
        "x_train, x_test, y_train, y_test = train_test_split(x, y, test_size = .2)\n",
        "\n",
        "# Create MLP regressor model\n",
        "mlp_model = MLPRegressor(hidden_layer_sizes=(10,10), max_iter=1000, alpha=0.01, solver='adam', random_state=42)\n",
        "\n",
        "# Train the model\n",
        "mlp_model.fit(x_train, y_train)\n",
        "\n",
        "y_pred = mlp_model.predict(x_test)\n",
        "\n",
        "# Calculate the mean squared error and R^2 score for the predictions\n",
        "mse = mean_squared_error(y_test, y_pred)\n",
        "r2 = r2_score(y_test, y_pred)\n",
        "\n",
        "print(\"prediction of ice covered area with MLP\")\n",
        "print(\"Mean Absolute Error: \", metrics.mean_absolute_error(y_test,y_pred))\n",
        "print(\"Mean Squared Error:\", metrics.mean_squared_error(y_test,y_pred))\n",
        "print(\"Root Mean Squared Error:\", np.sqrt(metrics.mean_squared_error(y_test,y_pred)))\n",
        "\n",
        "print('R Squared value', metrics.r2_score(y_test,y_pred))\n"
      ],
      "metadata": {
        "colab": {
          "base_uri": "https://localhost:8080/"
        },
        "id": "wf1oSf-PsfoK",
        "outputId": "6f829f80-8742-4069-e679-075e9bd882c8"
      },
      "execution_count": null,
      "outputs": [
        {
          "output_type": "stream",
          "name": "stdout",
          "text": [
            "prediction of ice covered area with MLP\n",
            "Mean Absolute Error:  0.6363985182877162\n",
            "Mean Squared Error: 0.9233273942978784\n",
            "Root Mean Squared Error: 0.9608992633454759\n",
            "R Squared value -1.0324928638905444\n"
          ]
        }
      ]
    }
  ]
}